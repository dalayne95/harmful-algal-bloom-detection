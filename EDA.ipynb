{
 "cells": [
  {
   "cell_type": "code",
   "execution_count": 116,
   "metadata": {},
   "outputs": [],
   "source": [
    "import pandas as pd\n",
    "import numpy as np\n",
    "import os\n",
    "import glob\n",
    "import  PIL\n",
    "from PIL import Image\n",
    "import cv2\n",
    "import time\n",
    "import matplotlib.pyplot as plt\n",
    "import scipy\n",
    "from scipy import ndimage\n",
    "from keras.preprocessing.image import ImageDataGenerator, array_to_img, img_to_array, load_img"
   ]
  },
  {
   "cell_type": "markdown",
   "metadata": {},
   "source": [
    "## Check the size of the images"
   ]
  },
  {
   "cell_type": "code",
   "execution_count": 176,
   "metadata": {},
   "outputs": [],
   "source": [
    "def get_img_stats(directory):\n",
    "    image_list = []\n",
    "    for filename in glob.glob(directory): \n",
    "        im=Image.open(filename)\n",
    "        image_list.append(im)\n",
    "    print(\"images appended!\")\n",
    "    \n",
    "    dimensions = []\n",
    "    for image in image_list:\n",
    "        dimensions.append(image.size)\n",
    "    print(min(dimensions))\n",
    "    "
   ]
  },
  {
   "cell_type": "code",
   "execution_count": 177,
   "metadata": {},
   "outputs": [
    {
     "name": "stdout",
     "output_type": "stream",
     "text": [
      "images appended!\n",
      "(140, 100)\n",
      "images appended!\n",
      "(160, 237)\n"
     ]
    }
   ],
   "source": [
    "test_algae = \"split/test/algae/*\"\n",
    "test_not_algae = \"split/test/not_algae/*\"\n",
    "get_img_stats(test_algae)\n",
    "get_img_stats(test_not_algae)"
   ]
  },
  {
   "cell_type": "code",
   "execution_count": 178,
   "metadata": {
    "scrolled": true
   },
   "outputs": [
    {
     "name": "stdout",
     "output_type": "stream",
     "text": [
      "images appended!\n",
      "(140, 100)\n",
      "images appended!\n",
      "(153, 110)\n"
     ]
    }
   ],
   "source": [
    "train_algae = \"split/train/algae/*\"\n",
    "train_not_algae = \"split/train/not_algae/*\"\n",
    "get_img_stats(train_algae)\n",
    "get_img_stats(train_not_algae)"
   ]
  },
  {
   "cell_type": "code",
   "execution_count": 179,
   "metadata": {},
   "outputs": [
    {
     "name": "stdout",
     "output_type": "stream",
     "text": [
      "images appended!\n",
      "(140, 100)\n",
      "images appended!\n",
      "(220, 165)\n"
     ]
    }
   ],
   "source": [
    "val_algae = \"split/validation/algae/*\"\n",
    "val_not_algae = \"split/validation/not_algae/*\"\n",
    "get_img_stats(val_algae)\n",
    "get_img_stats(val_not_algae)"
   ]
  },
  {
   "cell_type": "code",
   "execution_count": null,
   "metadata": {},
   "outputs": [],
   "source": []
  },
  {
   "cell_type": "code",
   "execution_count": null,
   "metadata": {},
   "outputs": [],
   "source": []
  },
  {
   "cell_type": "code",
   "execution_count": 160,
   "metadata": {},
   "outputs": [
    {
     "name": "stdout",
     "output_type": "stream",
     "text": [
      "images appended!\n",
      "[(450, 320), (474, 266), (474, 295), (474, 355), (600, 488), (474, 313), (600, 315), (474, 315), (474, 316), (474, 355), (474, 342), (474, 266), (474, 355), (474, 288), (600, 887), (474, 266), (140, 100), (474, 198), (474, 355), (490, 368), (474, 352), (474, 354), (474, 316), (280, 210), (474, 248), (474, 266), (474, 760), (474, 316), (474, 631), (474, 266), (474, 316), (474, 331), (474, 266), (474, 307), (474, 315), (474, 308), (474, 267), (474, 312), (474, 355), (474, 386), (474, 266), (297, 224), (474, 316), (474, 355), (474, 377), (474, 355), (474, 316), (140, 100), (474, 266), (474, 355), (140, 100), (474, 316), (474, 355), (474, 595), (474, 266), (350, 250), (474, 355), (474, 315), (474, 453), (370, 204), (140, 100), (474, 315), (474, 237), (600, 386), (474, 306), (490, 325), (474, 266), (446, 320), (474, 316), (474, 355), (474, 312), (474, 266), (140, 100), (474, 474), (474, 308), (474, 316), (474, 316), (474, 316), (328, 1025), (211, 300), (450, 210), (474, 510), (474, 355), (165, 110), (474, 314), (220, 165), (474, 355), (474, 266), (474, 316), (474, 510), (400, 300), (474, 264), (474, 344), (474, 243), (474, 316), (300, 300), (360, 270), (474, 355), (474, 727), (474, 355), (474, 355), (474, 314), (474, 266), (474, 266), (450, 210), (474, 316), (474, 306), (474, 305), (600, 331), (140, 100), (474, 474), (474, 267), (474, 355)]\n"
     ]
    }
   ],
   "source": [
    "test_algae = \"split/test/algae/*\"\n",
    "get_img_stats(directory)"
   ]
  },
  {
   "cell_type": "code",
   "execution_count": 131,
   "metadata": {},
   "outputs": [
    {
     "data": {
      "text/plain": [
       "450"
      ]
     },
     "execution_count": 131,
     "metadata": {},
     "output_type": "execute_result"
    }
   ],
   "source": [
    "image_list[0].size[0]"
   ]
  }
 ],
 "metadata": {
  "kernelspec": {
   "display_name": "Python 3",
   "language": "python",
   "name": "python3"
  },
  "language_info": {
   "codemirror_mode": {
    "name": "ipython",
    "version": 3
   },
   "file_extension": ".py",
   "mimetype": "text/x-python",
   "name": "python",
   "nbconvert_exporter": "python",
   "pygments_lexer": "ipython3",
   "version": "3.7.5"
  }
 },
 "nbformat": 4,
 "nbformat_minor": 2
}
