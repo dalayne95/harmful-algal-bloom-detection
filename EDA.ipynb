{
 "cells": [
  {
   "cell_type": "code",
   "execution_count": 4,
   "metadata": {},
   "outputs": [
    {
     "name": "stderr",
     "output_type": "stream",
     "text": [
      "Using TensorFlow backend.\n"
     ]
    }
   ],
   "source": [
    "import pandas as pd\n",
    "import numpy as np\n",
    "import os\n",
    "import glob\n",
    "import  PIL\n",
    "from PIL import Image\n",
    "import cv2\n",
    "import time\n",
    "import matplotlib.pyplot as plt\n",
    "import scipy\n",
    "from scipy import ndimage\n",
    "from keras.preprocessing.image import ImageDataGenerator, array_to_img, img_to_array, load_img\n",
    "from data_cleaning import *\n",
    "from keras import models\n",
    "from keras import layers"
   ]
  },
  {
   "cell_type": "markdown",
   "metadata": {},
   "source": [
    "## Check the size of the images"
   ]
  },
  {
   "cell_type": "code",
   "execution_count": 11,
   "metadata": {},
   "outputs": [
    {
     "name": "stdout",
     "output_type": "stream",
     "text": [
      "images appended!\n",
      "(140, 100)\n",
      "images appended!\n",
      "(160, 237)\n",
      "images appended!\n",
      "(140, 100)\n",
      "images appended!\n",
      "(153, 110)\n",
      "images appended!\n",
      "(140, 100)\n",
      "images appended!\n",
      "(220, 165)\n",
      "\n",
      "\n",
      "The minimumn image size is: 140 x 100! We will rescale to this size\n"
     ]
    }
   ],
   "source": [
    "# this function exists in data-cleaning.py\n",
    "test_algae = \"split/test/algae/*\"\n",
    "test_not_algae = \"split/test/not_algae/*\"\n",
    "get_img_stats(test_algae)\n",
    "get_img_stats(test_not_algae)\n",
    "\n",
    "train_algae = \"split/train/algae/*\"\n",
    "train_not_algae = \"split/train/not_algae/*\"\n",
    "get_img_stats(train_algae)\n",
    "get_img_stats(train_not_algae)\n",
    "\n",
    "val_algae = \"split/validation/algae/*\"\n",
    "val_not_algae = \"split/validation/not_algae/*\"\n",
    "get_img_stats(val_algae)\n",
    "get_img_stats(val_not_algae)\n",
    "print(\"\\n\")\n",
    "print(\"The minimumn image size is: 140 x 100! We will rescale to this size\")"
   ]
  },
  {
   "cell_type": "code",
   "execution_count": 15,
   "metadata": {},
   "outputs": [
    {
     "name": "stdout",
     "output_type": "stream",
     "text": [
      "Number of training samples: 570\n",
      "Number of testing samples: 228\n",
      "Number of validation samples: 160\n",
      "train_images shape: (570, 140, 100, 3)\n",
      "train_labels shape: (570, 2)\n",
      "test_images shape: (228, 140, 100, 3)\n",
      "test_labels shape: (228, 2)\n",
      "val_images shape: (160, 140, 100, 3)\n",
      "val_labels shape: (160, 2)\n"
     ]
    }
   ],
   "source": [
    "# lets check our dataset numbers again \n",
    "m_train = train_images.shape[0]\n",
    "num_px = train_images.shape[1]\n",
    "m_test = test_images.shape[0]\n",
    "m_val = val_images.shape[0]\n",
    "\n",
    "print (\"Number of training samples: \" + str(m_train))\n",
    "print (\"Number of testing samples: \" + str(m_test))\n",
    "print (\"Number of validation samples: \" + str(m_val))\n",
    "print (\"train_images shape: \" + str(train_images.shape))\n",
    "print (\"train_labels shape: \" + str(train_labels.shape))\n",
    "print (\"test_images shape: \" + str(test_images.shape))\n",
    "print (\"test_labels shape: \" + str(test_labels.shape))\n",
    "print (\"val_images shape: \" + str(val_images.shape))\n",
    "print (\"val_labels shape: \" + str(val_labels.shape))"
   ]
  },
  {
   "cell_type": "code",
   "execution_count": 16,
   "metadata": {},
   "outputs": [
    {
     "name": "stdout",
     "output_type": "stream",
     "text": [
      "(570, 42000)\n",
      "(228, 42000)\n",
      "(160, 42000)\n"
     ]
    }
   ],
   "source": [
    "print(train_img.shape)\n",
    "print(test_img.shape)\n",
    "print(val_img.shape)"
   ]
  },
  {
   "cell_type": "code",
   "execution_count": 20,
   "metadata": {},
   "outputs": [],
   "source": [
    "# Build a baseline fully connected model\n",
    "np.random.seed(123)\n",
    "model = models.Sequential()\n",
    "model.add(layers.Dense(20, activation='relu', input_shape=(42000,))) # 2 hidden layers\n",
    "model.add(layers.Dense(7, activation='relu'))\n",
    "model.add(layers.Dense(5, activation='relu'))\n",
    "model.add(layers.Dense(1, activation='sigmoid'))"
   ]
  },
  {
   "cell_type": "code",
   "execution_count": 21,
   "metadata": {},
   "outputs": [
    {
     "name": "stdout",
     "output_type": "stream",
     "text": [
      "Train on 570 samples, validate on 160 samples\n",
      "Epoch 1/50\n",
      "570/570 [==============================] - 1s 2ms/step - loss: 0.7457 - accuracy: 0.5000 - val_loss: 0.6927 - val_accuracy: 0.5938\n",
      "Epoch 2/50\n",
      "570/570 [==============================] - 0s 403us/step - loss: 0.6932 - accuracy: 0.5000 - val_loss: 0.6927 - val_accuracy: 0.5938\n",
      "Epoch 3/50\n",
      "570/570 [==============================] - 0s 399us/step - loss: 0.6932 - accuracy: 0.5000 - val_loss: 0.6927 - val_accuracy: 0.5938\n",
      "Epoch 4/50\n",
      "570/570 [==============================] - 0s 435us/step - loss: 0.6932 - accuracy: 0.5000 - val_loss: 0.6928 - val_accuracy: 0.5938\n",
      "Epoch 5/50\n",
      "570/570 [==============================] - 0s 495us/step - loss: 0.6932 - accuracy: 0.5000 - val_loss: 0.6928 - val_accuracy: 0.5938\n",
      "Epoch 6/50\n",
      "570/570 [==============================] - 0s 693us/step - loss: 0.6932 - accuracy: 0.5000 - val_loss: 0.6928 - val_accuracy: 0.5938\n",
      "Epoch 7/50\n",
      "570/570 [==============================] - 0s 414us/step - loss: 0.6932 - accuracy: 0.5000 - val_loss: 0.6929 - val_accuracy: 0.5938\n",
      "Epoch 8/50\n",
      "570/570 [==============================] - 0s 431us/step - loss: 0.6932 - accuracy: 0.5000 - val_loss: 0.6929 - val_accuracy: 0.5938\n",
      "Epoch 9/50\n",
      "570/570 [==============================] - 0s 492us/step - loss: 0.6932 - accuracy: 0.5000 - val_loss: 0.6930 - val_accuracy: 0.5938\n",
      "Epoch 10/50\n",
      "570/570 [==============================] - 0s 416us/step - loss: 0.6932 - accuracy: 0.5000 - val_loss: 0.6930 - val_accuracy: 0.5938\n",
      "Epoch 11/50\n",
      "570/570 [==============================] - 0s 647us/step - loss: 0.6932 - accuracy: 0.4825 - val_loss: 0.6930 - val_accuracy: 0.5938\n",
      "Epoch 12/50\n",
      "570/570 [==============================] - 0s 471us/step - loss: 0.6932 - accuracy: 0.4719 - val_loss: 0.6930 - val_accuracy: 0.5938\n",
      "Epoch 13/50\n",
      "570/570 [==============================] - 0s 424us/step - loss: 0.6932 - accuracy: 0.5000 - val_loss: 0.6930 - val_accuracy: 0.5938\n",
      "Epoch 14/50\n",
      "570/570 [==============================] - 0s 556us/step - loss: 0.6932 - accuracy: 0.5000 - val_loss: 0.6930 - val_accuracy: 0.5938\n",
      "Epoch 15/50\n",
      "570/570 [==============================] - 0s 440us/step - loss: 0.6932 - accuracy: 0.4719 - val_loss: 0.6930 - val_accuracy: 0.5938\n",
      "Epoch 16/50\n",
      "570/570 [==============================] - 0s 566us/step - loss: 0.6932 - accuracy: 0.5000 - val_loss: 0.6930 - val_accuracy: 0.5938\n",
      "Epoch 17/50\n",
      "570/570 [==============================] - 0s 420us/step - loss: 0.6932 - accuracy: 0.5000 - val_loss: 0.6930 - val_accuracy: 0.5938\n",
      "Epoch 18/50\n",
      "570/570 [==============================] - 0s 461us/step - loss: 0.6932 - accuracy: 0.5000 - val_loss: 0.6930 - val_accuracy: 0.5938\n",
      "Epoch 19/50\n",
      "570/570 [==============================] - 0s 579us/step - loss: 0.6932 - accuracy: 0.4860 - val_loss: 0.6930 - val_accuracy: 0.5938\n",
      "Epoch 20/50\n",
      "570/570 [==============================] - 0s 400us/step - loss: 0.6932 - accuracy: 0.4825 - val_loss: 0.6930 - val_accuracy: 0.5938\n",
      "Epoch 21/50\n",
      "570/570 [==============================] - 0s 421us/step - loss: 0.6932 - accuracy: 0.5000 - val_loss: 0.6930 - val_accuracy: 0.5938\n",
      "Epoch 22/50\n",
      "570/570 [==============================] - 0s 436us/step - loss: 0.6932 - accuracy: 0.4579 - val_loss: 0.6930 - val_accuracy: 0.5938\n",
      "Epoch 23/50\n",
      "570/570 [==============================] - 0s 501us/step - loss: 0.6932 - accuracy: 0.5000 - val_loss: 0.6930 - val_accuracy: 0.5938\n",
      "Epoch 24/50\n",
      "570/570 [==============================] - 0s 717us/step - loss: 0.6932 - accuracy: 0.4789 - val_loss: 0.6930 - val_accuracy: 0.5938\n",
      "Epoch 25/50\n",
      "570/570 [==============================] - 0s 414us/step - loss: 0.6932 - accuracy: 0.4895 - val_loss: 0.6930 - val_accuracy: 0.5938\n",
      "Epoch 26/50\n",
      "570/570 [==============================] - 0s 466us/step - loss: 0.6932 - accuracy: 0.4754 - val_loss: 0.6930 - val_accuracy: 0.5938\n",
      "Epoch 27/50\n",
      "570/570 [==============================] - 0s 574us/step - loss: 0.6932 - accuracy: 0.5000 - val_loss: 0.6930 - val_accuracy: 0.5938\n",
      "Epoch 28/50\n",
      "570/570 [==============================] - 0s 573us/step - loss: 0.6932 - accuracy: 0.5000 - val_loss: 0.6930 - val_accuracy: 0.5938\n",
      "Epoch 29/50\n",
      "570/570 [==============================] - 0s 600us/step - loss: 0.6932 - accuracy: 0.5000 - val_loss: 0.6931 - val_accuracy: 0.5938\n",
      "Epoch 30/50\n",
      "570/570 [==============================] - 0s 483us/step - loss: 0.6932 - accuracy: 0.4579 - val_loss: 0.6931 - val_accuracy: 0.5938\n",
      "Epoch 31/50\n",
      "570/570 [==============================] - 0s 499us/step - loss: 0.6932 - accuracy: 0.5000 - val_loss: 0.6931 - val_accuracy: 0.5938\n",
      "Epoch 32/50\n",
      "570/570 [==============================] - 0s 703us/step - loss: 0.6932 - accuracy: 0.4719 - val_loss: 0.6930 - val_accuracy: 0.5938\n",
      "Epoch 33/50\n",
      "570/570 [==============================] - 0s 457us/step - loss: 0.6932 - accuracy: 0.5000 - val_loss: 0.6930 - val_accuracy: 0.5938\n",
      "Epoch 34/50\n",
      "570/570 [==============================] - 0s 449us/step - loss: 0.6932 - accuracy: 0.4719 - val_loss: 0.6930 - val_accuracy: 0.5938\n",
      "Epoch 35/50\n",
      "570/570 [==============================] - 0s 595us/step - loss: 0.6932 - accuracy: 0.4614 - val_loss: 0.6930 - val_accuracy: 0.5938\n",
      "Epoch 36/50\n",
      "570/570 [==============================] - 0s 465us/step - loss: 0.6932 - accuracy: 0.5000 - val_loss: 0.6930 - val_accuracy: 0.5938\n",
      "Epoch 37/50\n",
      "570/570 [==============================] - 0s 489us/step - loss: 0.6932 - accuracy: 0.5000 - val_loss: 0.6930 - val_accuracy: 0.5938\n",
      "Epoch 38/50\n",
      "570/570 [==============================] - 0s 436us/step - loss: 0.6932 - accuracy: 0.5000 - val_loss: 0.6930 - val_accuracy: 0.5938\n",
      "Epoch 39/50\n",
      "570/570 [==============================] - 0s 551us/step - loss: 0.6932 - accuracy: 0.5000 - val_loss: 0.6931 - val_accuracy: 0.5938\n",
      "Epoch 40/50\n",
      "570/570 [==============================] - 0s 521us/step - loss: 0.6932 - accuracy: 0.5000 - val_loss: 0.6931 - val_accuracy: 0.5938\n",
      "Epoch 41/50\n",
      "570/570 [==============================] - 0s 600us/step - loss: 0.6932 - accuracy: 0.4930 - val_loss: 0.6931 - val_accuracy: 0.5938\n",
      "Epoch 42/50\n",
      "570/570 [==============================] - 0s 578us/step - loss: 0.6932 - accuracy: 0.5000 - val_loss: 0.6931 - val_accuracy: 0.5938\n",
      "Epoch 43/50\n",
      "570/570 [==============================] - 0s 484us/step - loss: 0.6932 - accuracy: 0.4789 - val_loss: 0.6932 - val_accuracy: 0.4062\n",
      "Epoch 44/50\n",
      "570/570 [==============================] - 0s 426us/step - loss: 0.6932 - accuracy: 0.4930 - val_loss: 0.6932 - val_accuracy: 0.4062\n",
      "Epoch 45/50\n",
      "570/570 [==============================] - 0s 432us/step - loss: 0.6932 - accuracy: 0.5000 - val_loss: 0.6932 - val_accuracy: 0.4062\n",
      "Epoch 46/50\n",
      "570/570 [==============================] - 0s 541us/step - loss: 0.6932 - accuracy: 0.5000 - val_loss: 0.6931 - val_accuracy: 0.5938\n",
      "Epoch 47/50\n",
      "570/570 [==============================] - 0s 427us/step - loss: 0.6932 - accuracy: 0.4860 - val_loss: 0.6931 - val_accuracy: 0.5938\n",
      "Epoch 48/50\n",
      "570/570 [==============================] - 0s 466us/step - loss: 0.6932 - accuracy: 0.4614 - val_loss: 0.6931 - val_accuracy: 0.5938\n",
      "Epoch 49/50\n",
      "570/570 [==============================] - 0s 496us/step - loss: 0.6932 - accuracy: 0.5000 - val_loss: 0.6931 - val_accuracy: 0.5938\n",
      "Epoch 50/50\n",
      "570/570 [==============================] - 0s 501us/step - loss: 0.6932 - accuracy: 0.4930 - val_loss: 0.6931 - val_accuracy: 0.5938\n"
     ]
    }
   ],
   "source": [
    "model.compile(optimizer='sgd',\n",
    "              loss='binary_crossentropy',\n",
    "              metrics=['accuracy'])\n",
    "\n",
    "histoire = model.fit(train_img,\n",
    "                    train_y,\n",
    "                    epochs=50,\n",
    "                    batch_size=32,\n",
    "                    validation_data=(val_img, val_y))"
   ]
  },
  {
   "cell_type": "code",
   "execution_count": null,
   "metadata": {},
   "outputs": [],
   "source": []
  }
 ],
 "metadata": {
  "kernelspec": {
   "display_name": "Python 3",
   "language": "python",
   "name": "python3"
  },
  "language_info": {
   "codemirror_mode": {
    "name": "ipython",
    "version": 3
   },
   "file_extension": ".py",
   "mimetype": "text/x-python",
   "name": "python",
   "nbconvert_exporter": "python",
   "pygments_lexer": "ipython3",
   "version": "3.7.5"
  }
 },
 "nbformat": 4,
 "nbformat_minor": 2
}
