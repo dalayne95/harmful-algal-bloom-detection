{
 "cells": [
  {
   "cell_type": "code",
   "execution_count": 1,
   "metadata": {},
   "outputs": [],
   "source": [
    "import pandas as pd\n",
    "import numpy as np\n",
    "#from PIL import image\n",
    "import os, shutil"
   ]
  },
  {
   "cell_type": "markdown",
   "metadata": {},
   "source": [
    "## Split the sata into train and test sets"
   ]
  },
  {
   "cell_type": "code",
   "execution_count": 16,
   "metadata": {},
   "outputs": [],
   "source": [
    "# make a new object for each existing directory + a new split one\n",
    "img_algae_bloom = 'images/algae-blooms/'\n",
    "img_not_algae_bloom = 'images/not-algae-blooms/'\n",
    "new_dir = 'split/'"
   ]
  },
  {
   "cell_type": "code",
   "execution_count": 21,
   "metadata": {},
   "outputs": [
    {
     "data": {
      "text/plain": [
       "['download - 2020-02-25T141451.741.jpeg',\n",
       " 'download - 2020-02-25T141726.037.jpeg',\n",
       " 'download - 2020-02-25T142257.391.jpeg',\n",
       " 'download - 2020-02-25T140802.383.jpeg',\n",
       " 'download - 2020-02-25T142258.080.jpeg',\n",
       " 'download - 2020-02-25T142938.164.jpeg',\n",
       " 'download (5).jpeg',\n",
       " 'download - 2020-02-25T141833.074.jpeg',\n",
       " 'download (23).jpeg',\n",
       " 'download (66).jpeg']"
      ]
     },
     "execution_count": 21,
     "metadata": {},
     "output_type": "execute_result"
    }
   ],
   "source": [
    "# create an object that stores all relevant image names \n",
    "ext = [\".jpg\", \".jpeg\", \".png\"]\n",
    "imgs_algae= [file for file in os.listdir(img_algae_bloom) if file.endswith(tuple(ext))]\n",
    "imgs_algae[0:10]"
   ]
  },
  {
   "cell_type": "code",
   "execution_count": 25,
   "metadata": {},
   "outputs": [
    {
     "name": "stdout",
     "output_type": "stream",
     "text": [
      "There are 495 with algae in them\n"
     ]
    }
   ],
   "source": [
    "# how many img are there in the algae directory?\n",
    "print(\"There are\", len(imgs_algae), \"with algae in them\")"
   ]
  },
  {
   "cell_type": "code",
   "execution_count": 26,
   "metadata": {},
   "outputs": [],
   "source": [
    "# Make a new directory called \"new_dir\"\n",
    "os.mkdir(new_dir)"
   ]
  },
  {
   "cell_type": "code",
   "execution_count": 27,
   "metadata": {},
   "outputs": [],
   "source": [
    "# use os.path.join to join a new multi-level directory together\n",
    "train_folder = os.path.join(new_dir, 'train')\n",
    "train_algae = os.path.join(train_folder, 'algae')\n",
    "train_not_algae = os.path.join(train_folder, 'not_algae')\n",
    "\n",
    "test_folder = os.path.join(new_dir, 'test')\n",
    "test_algae = os.path.join(test_folder, 'algae')\n",
    "test_not_algae = os.path.join(test_folder, 'not_algae')\n",
    "\n",
    "val_folder = os.path.join(new_dir, 'validation')\n",
    "val_algae = os.path.join(val_folder, 'algae')\n",
    "val_not_algae = os.path.join(val_folder, 'not_algae')"
   ]
  },
  {
   "cell_type": "code",
   "execution_count": 28,
   "metadata": {},
   "outputs": [
    {
     "data": {
      "text/plain": [
       "'split/train/algae'"
      ]
     },
     "execution_count": 28,
     "metadata": {},
     "output_type": "execute_result"
    }
   ],
   "source": [
    "train_algae"
   ]
  },
  {
   "cell_type": "code",
   "execution_count": null,
   "metadata": {},
   "outputs": [],
   "source": [
    "# train algae, 285 to train\n",
    "imgs = imgs_algae[:285]\n",
    "\n",
    "for image in imgs:\n",
    "    origin = os.path.join(img_algae_bloom, img)\n",
    "    destination = os.path.join(train_algae, img)\n",
    "    shutil.copyfile(origin, destination)"
   ]
  }
 ],
 "metadata": {
  "kernelspec": {
   "display_name": "Python 3",
   "language": "python",
   "name": "python3"
  },
  "language_info": {
   "codemirror_mode": {
    "name": "ipython",
    "version": 3
   },
   "file_extension": ".py",
   "mimetype": "text/x-python",
   "name": "python",
   "nbconvert_exporter": "python",
   "pygments_lexer": "ipython3",
   "version": "3.7.5"
  }
 },
 "nbformat": 4,
 "nbformat_minor": 2
}
