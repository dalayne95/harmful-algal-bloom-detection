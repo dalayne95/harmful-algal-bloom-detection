{
 "cells": [
  {
   "cell_type": "markdown",
   "metadata": {},
   "source": [
    "# Computer Detection of Algal Blooms"
   ]
  },
  {
   "cell_type": "code",
   "execution_count": 8,
   "metadata": {},
   "outputs": [],
   "source": [
    "import pandas as pd\n",
    "import numpy as np\n",
    "import os\n",
    "import glob\n",
    "import  PIL\n",
    "from PIL import Image\n",
    "import cv2\n",
    "import time\n",
    "import matplotlib.pyplot as plt\n",
    "import scipy\n",
    "from scipy import ndimage\n",
    "from keras.preprocessing.image import ImageDataGenerator, array_to_img, img_to_array, load_img\n",
    "from data_cleaning import *\n",
    "from keras import models\n",
    "from keras import layers\n",
    "%matplotlib inline"
   ]
  },
  {
   "cell_type": "markdown",
   "metadata": {},
   "source": [
    "## Image Preprocessing"
   ]
  },
  {
   "cell_type": "markdown",
   "metadata": {},
   "source": [
    "#### Find the minimum size of image in each folder"
   ]
  },
  {
   "cell_type": "code",
   "execution_count": 9,
   "metadata": {},
   "outputs": [
    {
     "name": "stdout",
     "output_type": "stream",
     "text": [
      "images appended!\n",
      "(140, 100)\n",
      "images appended!\n",
      "(160, 237)\n",
      "images appended!\n",
      "(140, 100)\n",
      "images appended!\n",
      "(153, 110)\n",
      "images appended!\n",
      "(140, 100)\n",
      "images appended!\n",
      "(200, 160)\n"
     ]
    }
   ],
   "source": [
    "# this function exists in data-cleaning.py\n",
    "test_algae = \"split/test/algae/*\"\n",
    "test_not_algae = \"split/test/not_algae/*\"\n",
    "get_img_stats(test_algae)\n",
    "get_img_stats(test_not_algae)\n",
    "\n",
    "train_algae = \"split/train/algae/*\"\n",
    "train_not_algae = \"split/train/not_algae/*\"\n",
    "get_img_stats(train_algae)\n",
    "get_img_stats(train_not_algae)\n",
    "\n",
    "val_algae = \"split/validation/algae/*\"\n",
    "val_not_algae = \"split/validation/not_algae/*\"\n",
    "get_img_stats(val_algae)\n",
    "get_img_stats(val_not_algae)"
   ]
  },
  {
   "cell_type": "markdown",
   "metadata": {},
   "source": [
    "### Image Augmentation"
   ]
  },
  {
   "cell_type": "code",
   "execution_count": 10,
   "metadata": {
    "scrolled": true
   },
   "outputs": [
    {
     "name": "stdout",
     "output_type": "stream",
     "text": [
      "Found 288 images belonging to 2 classes.\n",
      "Found 867 images belonging to 2 classes.\n",
      "Found 291 images belonging to 2 classes.\n"
     ]
    }
   ],
   "source": [
    "# reshape the images, flip, rotate and adjust brightness using Keras\n",
    "\n",
    "# get all the data in the directory split/test (230 images), and reshape them\n",
    "test_generator = ImageDataGenerator(rescale=1./255, rotation_range=90, \n",
    "                                    brightness_range=[0.1,1.5], horizontal_flip=True).flow_from_directory(\n",
    "    'split/test/', target_size=(140, 140),batch_size = 291)# class_mode='binary')\n",
    "# get all the data in the directory split/train (570 images), and reshape them\n",
    "train_generator = ImageDataGenerator(rescale=1./255,rotation_range=90, \n",
    "                                     brightness_range=[0.2,1.5], horizontal_flip=True).flow_from_directory(\n",
    "    'split/train/', target_size=(140, 140), batch_size=871) #class_mode='binary')\n",
    "\n",
    "# get all the data in the directory split/validation (160 images), and reshape them\n",
    "val_generator = ImageDataGenerator(rescale=1./255,  rotation_range=90, \n",
    "                                   brightness_range=[0.2,1.5], horizontal_flip=True).flow_from_directory(\n",
    "    'split/validation/', target_size=(140, 140), batch_size = 294) #class_mode='binary')"
   ]
  },
  {
   "cell_type": "markdown",
   "metadata": {},
   "source": [
    "#### Tweaks \n",
    "For image augmentation, I tried a few different things. I ran an initial model and then made some of the tweaks listed below.\n",
    "\n",
    "* Shape:\n",
    "    * I tried the true minimum, 140x100, but most of the images were distorted\n",
    "    * To improve my model I decided on 140x140 square image to see if it distorted the images less\n",
    "    \n",
    "* Scaling: \n",
    "    * The new images size was still very blurry so I tried to tweak the rescaling\n",
    "    * I also tried rescaling at 1./255 and NO rescaling\n",
    "    * The no rescaling did not help and made the images much more blurry\n",
    "\n",
    "\n",
    "* Brightness:\n",
    "    * I initially had the brightness set to a range of 0.2 - 1.0. This range randomly darkened the images only\n",
    "    * I adjusted the brightness generator to randomly generate light and dark images by changing the range to 0.2 - 1.5. \n",
    "    * This last step helped a lot when viewing the images\n",
    "\n",
    "These changes resulted in an increase in a pretty minimal (<0.5%) greater predicting accuracy on the test set."
   ]
  },
  {
   "cell_type": "markdown",
   "metadata": {},
   "source": [
    "#### Create Data Labels "
   ]
  },
  {
   "cell_type": "code",
   "execution_count": 11,
   "metadata": {},
   "outputs": [],
   "source": [
    "# split images and labels\n",
    "train_images, train_labels = next(train_generator)\n",
    "test_images, test_labels = next(test_generator)\n",
    "val_images, val_labels = next(val_generator)"
   ]
  },
  {
   "cell_type": "code",
   "execution_count": 12,
   "metadata": {},
   "outputs": [],
   "source": [
    "images = np.concatenate((train_images, test_images, val_images))\n",
    "labels = np.concatenate((train_labels[:,0], test_labels[:,0], val_labels[:,0]))"
   ]
  },
  {
   "cell_type": "code",
   "execution_count": 13,
   "metadata": {
    "scrolled": false
   },
   "outputs": [
    {
     "name": "stdout",
     "output_type": "stream",
     "text": [
      "Number of training samples: 867\n",
      "Number of testing samples: 288\n",
      "Number of validation samples: 291\n",
      "train_images shape: (867, 140, 140, 3)\n",
      "train_labels shape: (867, 2)\n",
      "test_images shape: (288, 140, 140, 3)\n",
      "test_labels shape: (288, 2)\n",
      "val_images shape: (291, 140, 140, 3)\n",
      "val_labels shape: (291, 2)\n"
     ]
    }
   ],
   "source": [
    "# lets check our dataset numbers again post-reshaping \n",
    "m_train = train_images.shape[0]\n",
    "num_px = train_images.shape[1]\n",
    "m_test = test_images.shape[0]\n",
    "m_val = val_images.shape[0]\n",
    "\n",
    "print (\"Number of training samples: \" + str(m_train))\n",
    "print (\"Number of testing samples: \" + str(m_test))\n",
    "print (\"Number of validation samples: \" + str(m_val))\n",
    "print (\"train_images shape: \" + str(train_images.shape))\n",
    "print (\"train_labels shape: \" + str(train_labels.shape))\n",
    "print (\"test_images shape: \" + str(test_images.shape))\n",
    "print (\"test_labels shape: \" + str(test_labels.shape))\n",
    "print (\"val_images shape: \" + str(val_images.shape))\n",
    "print (\"val_labels shape: \" + str(val_labels.shape))"
   ]
  },
  {
   "cell_type": "code",
   "execution_count": 61,
   "metadata": {},
   "outputs": [
    {
     "data": {
      "image/png": "[encoded data removed]",
      "text/plain": [
       "<Figure size 432x288 with 1 Axes>"
      ]
     },
     "metadata": {
      "needs_background": "light"
     },
     "output_type": "display_data"
    }
   ],
   "source": [
    "# show one of the images\n",
    "plt.imshow(images[16])\n",
    "plt.show()"
   ]
  },
  {
   "cell_type": "markdown",
   "metadata": {},
   "source": [
    "#### Split train, test, and val into X & Y "
   ]
  },
  {
   "cell_type": "code",
   "execution_count": 14,
   "metadata": {},
   "outputs": [
    {
     "name": "stdout",
     "output_type": "stream",
     "text": [
      "Train X: (867, 58800)\n",
      "Test X: (288, 58800)\n",
      "Val X: (291, 58800)\n",
      "\n",
      "\n",
      "Train y: (867, 1)\n",
      "Test y: (288, 1)\n",
      "Val y: (291, 1)\n"
     ]
    }
   ],
   "source": [
    "# split into x & y and check shape\n",
    "train_img = train_images.reshape(train_images.shape[0], -1)\n",
    "test_img = test_images.reshape(test_images.shape[0], -1)\n",
    "val_img = val_images.reshape(val_images.shape[0], -1)\n",
    "\n",
    "print(\"Train X:\", train_img.shape)\n",
    "print(\"Test X:\", test_img.shape)\n",
    "print(\"Val X:\", val_img.shape)\n",
    "\n",
    "train_y = np.reshape(train_labels[:,0], (867,1))\n",
    "test_y = np.reshape(test_labels[:,0], (288,1))\n",
    "val_y = np.reshape(val_labels[:,0], (291,1))\n",
    "\n",
    "print(\"\\n\")\n",
    "print(\"Train y:\", train_y.shape)\n",
    "print(\"Test y:\", test_y.shape)\n",
    "print(\"Val y:\", val_y.shape)"
   ]
  },
  {
   "cell_type": "markdown",
   "metadata": {},
   "source": [
    "## Build a Convolutional Neural Network (CNN)"
   ]
  },
  {
   "cell_type": "markdown",
   "metadata": {},
   "source": [
    "### Model # 1"
   ]
  },
  {
   "cell_type": "code",
   "execution_count": 34,
   "metadata": {},
   "outputs": [],
   "source": [
    "# instantiate the model \n",
    "base_model = models.Sequential()\n",
    "\n",
    "base_model.add(layers.Conv2D(32, (3, 3), activation='relu',\n",
    "                        input_shape=(140, 140,  3)))\n",
    "base_model.add(layers.MaxPooling2D((2, 2)))\n",
    "\n",
    "base_model.add(layers.Conv2D(32, (4, 4), activation='relu'))\n",
    "base_model.add(layers.MaxPooling2D((2, 2)))\n",
    "\n",
    "base_model.add(layers.Conv2D(64, (3, 3), activation='relu'))\n",
    "base_model.add(layers.MaxPooling2D((2, 2)))\n",
    "\n",
    "base_model.add(layers.Flatten())\n",
    "base_model.add(layers.Dense(64, activation='relu'))\n",
    "base_model.add(layers.Dense(1, activation='sigmoid'))\n",
    "\n",
    "base_model.compile(loss='binary_crossentropy',\n",
    "              optimizer=\"sgd\",\n",
    "              metrics=['acc'])"
   ]
  },
  {
   "cell_type": "code",
   "execution_count": 38,
   "metadata": {},
   "outputs": [
    {
     "name": "stdout",
     "output_type": "stream",
     "text": [
      "Train on 867 samples, validate on 291 samples\n",
      "Epoch 1/20\n",
      "867/867 [==============================] - 20s 23ms/step - loss: 0.4395 - acc: 0.8108 - val_loss: 0.4235 - val_acc: 0.8076\n",
      "Epoch 2/20\n",
      "867/867 [==============================] - 18s 21ms/step - loss: 0.4128 - acc: 0.8235 - val_loss: 0.4114 - val_acc: 0.8007\n",
      "Epoch 3/20\n",
      "867/867 [==============================] - 18s 21ms/step - loss: 0.4179 - acc: 0.8131 - val_loss: 0.3626 - val_acc: 0.8522\n",
      "Epoch 4/20\n",
      "867/867 [==============================] - 18s 21ms/step - loss: 0.4204 - acc: 0.8120 - val_loss: 0.5660 - val_acc: 0.7423\n",
      "Epoch 5/20\n",
      "867/867 [==============================] - 18s 21ms/step - loss: 0.4449 - acc: 0.7947 - val_loss: 0.4865 - val_acc: 0.7457\n",
      "Epoch 6/20\n",
      "867/867 [==============================] - 18s 21ms/step - loss: 0.4246 - acc: 0.8108 - val_loss: 0.7626 - val_acc: 0.6460\n",
      "Epoch 7/20\n",
      "867/867 [==============================] - 18s 21ms/step - loss: 0.4165 - acc: 0.8166 - val_loss: 0.6234 - val_acc: 0.6907\n",
      "Epoch 8/20\n",
      "867/867 [==============================] - 18s 21ms/step - loss: 0.4200 - acc: 0.8143 - val_loss: 0.4176 - val_acc: 0.8179\n",
      "Epoch 9/20\n",
      "867/867 [==============================] - 18s 21ms/step - loss: 0.3973 - acc: 0.8316 - val_loss: 0.5523 - val_acc: 0.7526\n",
      "Epoch 10/20\n",
      "867/867 [==============================] - 18s 21ms/step - loss: 0.3971 - acc: 0.8293 - val_loss: 0.3804 - val_acc: 0.8385\n",
      "Epoch 11/20\n",
      "867/867 [==============================] - 20s 23ms/step - loss: 0.3892 - acc: 0.8281 - val_loss: 1.6732 - val_acc: 0.4811\n",
      "Epoch 12/20\n",
      "867/867 [==============================] - 19s 22ms/step - loss: 0.4703 - acc: 0.8224 - val_loss: 0.4027 - val_acc: 0.8282\n",
      "Epoch 13/20\n",
      "867/867 [==============================] - 18s 21ms/step - loss: 0.3719 - acc: 0.8374 - val_loss: 0.3502 - val_acc: 0.8385\n",
      "Epoch 14/20\n",
      "867/867 [==============================] - 18s 21ms/step - loss: 0.3849 - acc: 0.8466 - val_loss: 0.4225 - val_acc: 0.8144\n",
      "Epoch 15/20\n",
      "867/867 [==============================] - 18s 21ms/step - loss: 0.3799 - acc: 0.8362 - val_loss: 0.6690 - val_acc: 0.6735\n",
      "Epoch 16/20\n",
      "867/867 [==============================] - 18s 21ms/step - loss: 0.3924 - acc: 0.8258 - val_loss: 0.5762 - val_acc: 0.7010\n",
      "Epoch 17/20\n",
      "867/867 [==============================] - 18s 21ms/step - loss: 0.3717 - acc: 0.8339 - val_loss: 0.3736 - val_acc: 0.8454\n",
      "Epoch 18/20\n",
      "867/867 [==============================] - 18s 21ms/step - loss: 0.3694 - acc: 0.8339 - val_loss: 0.4403 - val_acc: 0.8076\n",
      "Epoch 19/20\n",
      "867/867 [==============================] - 18s 21ms/step - loss: 0.3708 - acc: 0.8385 - val_loss: 0.4540 - val_acc: 0.7973\n",
      "Epoch 20/20\n",
      "867/867 [==============================] - 19s 22ms/step - loss: 0.3679 - acc: 0.8362 - val_loss: 0.3785 - val_acc: 0.8351\n"
     ]
    }
   ],
   "source": [
    "history = model.fit(train_images,\n",
    "                    train_y,\n",
    "                    epochs=20,\n",
    "                    batch_size=32,\n",
    "                    validation_data=(val_images, val_y))"
   ]
  },
  {
   "cell_type": "code",
   "execution_count": 39,
   "metadata": {},
   "outputs": [
    {
     "name": "stdout",
     "output_type": "stream",
     "text": [
      "867/867 [==============================] - 4s 4ms/step\n"
     ]
    },
    {
     "data": {
      "text/plain": [
       "[0.3829137596979548, 0.8339100480079651]"
      ]
     },
     "execution_count": 39,
     "metadata": {},
     "output_type": "execute_result"
    }
   ],
   "source": [
    "results_train = model.evaluate(train_images, train_y)\n",
    "results_train"
   ]
  },
  {
   "cell_type": "code",
   "execution_count": 40,
   "metadata": {},
   "outputs": [
    {
     "name": "stdout",
     "output_type": "stream",
     "text": [
      "288/288 [==============================] - 1s 4ms/step\n"
     ]
    },
    {
     "data": {
      "text/plain": [
       "[0.5321037934886085, 0.7951388955116272]"
      ]
     },
     "execution_count": 40,
     "metadata": {},
     "output_type": "execute_result"
    }
   ],
   "source": [
    "results_test = model.evaluate(test_images, test_y)\n",
    "results_test"
   ]
  },
  {
   "cell_type": "markdown",
   "metadata": {},
   "source": [
    "* first results (epochs = 30:\n",
    "    * 90% loss\n",
    "    * about 65% accuracy\n",
    "* second results (more epochs - 60):\n",
    "    * 35% loss \n",
    "    * 80% accuracy\n",
    "    * roughly 1% difference between test and validation sets\n",
    "* third results (epochs = 15 + changes mentioned a few cells up): \n",
    "    * test results are 49% loss and 79.16% accuracy\n",
    "    * train accuracy is 80% and val is 83%\n",
    "* fourth results (increase to epochs = 20 with no other major changes): \n",
    "    * test results are 53% loss and 79.5% accuracy\n",
    "    * train accuracy is 83%\n",
    "    * test and validation accuracy scores on last epoc are 83.6% and 83.5% respectively so this hopefully means no overfitting!"
   ]
  },
  {
   "cell_type": "code",
   "execution_count": null,
   "metadata": {},
   "outputs": [],
   "source": [
    "# check labels for classes \n",
    "# can a human label them easily?\n",
    "# waht are the standards and accuracy for satellite traininng of models?\n",
    "# for whom? \n",
    "# find image standard and demo with that image "
   ]
  },
  {
   "cell_type": "code",
   "execution_count": null,
   "metadata": {},
   "outputs": [],
   "source": [
    "# Model improvements \n",
    "\n",
    "# manually crop images, increase saturation or contrast \n",
    "# fix scale? some images are quished, increase size \n",
    "# inception resnet\n",
    "# add more layers "
   ]
  }
 ],
 "metadata": {
  "kernelspec": {
   "display_name": "Python 3",
   "language": "python",
   "name": "python3"
  },
  "language_info": {
   "codemirror_mode": {
    "name": "ipython",
    "version": 3
   },
   "file_extension": ".py",
   "mimetype": "text/x-python",
   "name": "python",
   "nbconvert_exporter": "python",
   "pygments_lexer": "ipython3",
   "version": "3.7.5"
  }
 },
 "nbformat": 4,
 "nbformat_minor": 2
}
