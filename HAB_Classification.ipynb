{
 "cells": [
  {
   "cell_type": "markdown",
   "metadata": {},
   "source": [
    "# Computer Detection of Algal Blooms"
   ]
  },
  {
   "cell_type": "markdown",
   "metadata": {},
   "source": [
    "![algal bloom](download.jpeg)"
   ]
  },
  {
   "cell_type": "markdown",
   "metadata": {},
   "source": [
    "## The problem \n",
    "\n",
    "Phytoplankton are single-celled algae that live in freshwater, saltwater, and everywhere in between. Algal blooms, big explosions of phytoplankton growth, happen naturally every late spring and early fall all around the globe. Sometimes, blooms grow out of control for a variety of reasons: excess of nutrient from land based runoff, influx of freshwater, higher than normal temperatures. These are called Harmful Algal Blooms (HABs). HABs pose a threat to human health and ecosystem health. \n",
    "\n",
    "![hab facts](download1.jpeg)\n",
    "\n",
    "Early detection of algal blooms from imagery can help scientists and policy makers sample blooms as soon as possible to determine if they are toxic, and make important decisions regarding public health: beach closures, fisherman warnings, and seafood warnings can all help humans avoid harmful effects of HABS. My goal is to create a model that classifies algal blooms using imagery obtained from Google. Algal blooms come in all differnet shapes, sizes and colors, and this highly varied dataset will hopefully lead to a model that is able to classsify algal blooms in all forms. "
   ]
  },
  {
   "cell_type": "code",
   "execution_count": 26,
   "metadata": {},
   "outputs": [],
   "source": [
    "import pandas as pd\n",
    "import numpy as np\n",
    "import os\n",
    "import glob\n",
    "import  PIL\n",
    "from PIL import Image\n",
    "import cv2\n",
    "import time\n",
    "import matplotlib.pyplot as plt\n",
    "import scipy\n",
    "from scipy import ndimage\n",
    "from keras.preprocessing.image import ImageDataGenerator, array_to_img, img_to_array, load_img\n",
    "from keras import models\n",
    "from keras import layers\n",
    "%matplotlib inline\n",
    "\n",
    "# custom function\n",
    "from data_cleaning import *"
   ]
  },
  {
   "cell_type": "markdown",
   "metadata": {},
   "source": [
    "## Image Preprocessing"
   ]
  },
  {
   "cell_type": "code",
   "execution_count": 27,
   "metadata": {},
   "outputs": [],
   "source": [
    "# talk about split.py "
   ]
  },
  {
   "cell_type": "code",
   "execution_count": 28,
   "metadata": {},
   "outputs": [
    {
     "name": "stdout",
     "output_type": "stream",
     "text": [
      "images appended!\n",
      "(140, 100)\n",
      "images appended!\n",
      "(160, 237)\n",
      "images appended!\n",
      "(140, 100)\n",
      "images appended!\n",
      "(153, 110)\n",
      "images appended!\n",
      "(140, 100)\n",
      "images appended!\n",
      "(200, 160)\n"
     ]
    }
   ],
   "source": [
    "# get_img_stats is a function loaded in from data_cleaning.py\n",
    "# it loops through each directory and gets the dimensions of each image and prints the minimum\n",
    "test_algae = \"split/test/algae/*\"\n",
    "test_not_algae = \"split/test/not_algae/*\"\n",
    "get_img_stats(test_algae)\n",
    "get_img_stats(test_not_algae)\n",
    "\n",
    "train_algae = \"split/train/algae/*\"\n",
    "train_not_algae = \"split/train/not_algae/*\"\n",
    "get_img_stats(train_algae)\n",
    "get_img_stats(train_not_algae)\n",
    "\n",
    "val_algae = \"split/validation/algae/*\"\n",
    "val_not_algae = \"split/validation/not_algae/*\"\n",
    "get_img_stats(val_algae)\n",
    "get_img_stats(val_not_algae)"
   ]
  },
  {
   "cell_type": "code",
   "execution_count": 29,
   "metadata": {},
   "outputs": [
    {
     "name": "stdout",
     "output_type": "stream",
     "text": [
      "Found 867 images belonging to 2 classes.\n",
      "Found 288 images belonging to 2 classes.\n",
      "Found 291 images belonging to 2 classes.\n"
     ]
    }
   ],
   "source": [
    "# rescale and reshape the images\n",
    "\n",
    "train_gen = ImageDataGenerator(rescale=1./255).flow_from_directory(\n",
    "    'split/train/', target_size=(140,140), batch_size=871)\n",
    "\n",
    "test_gen = ImageDataGenerator(rescale=1./255).flow_from_directory(\n",
    "    'split/test/', target_size=(140,140), batch_size=291)\n",
    "\n",
    "val_gen = ImageDataGenerator(rescale=1./255).flow_from_directory(\n",
    "    'split/validation/', target_size=(140,140), batch_size=294)"
   ]
  },
  {
   "cell_type": "code",
   "execution_count": 30,
   "metadata": {},
   "outputs": [],
   "source": [
    "# split the images and labels\n",
    "train_images, train_labels = next(train_gen)\n",
    "test_images, test_labels = next(test_gen)\n",
    "val_images, val_labels = next(val_gen)"
   ]
  },
  {
   "cell_type": "markdown",
   "metadata": {},
   "source": [
    "## Split the data"
   ]
  },
  {
   "cell_type": "code",
   "execution_count": 31,
   "metadata": {
    "scrolled": true
   },
   "outputs": [
    {
     "name": "stdout",
     "output_type": "stream",
     "text": [
      "Train X: (867, 140, 140, 3)\n",
      "Test X: (288, 140, 140, 3)\n",
      "Val X: (291, 140, 140, 3)\n",
      "\n",
      "\n",
      "Train y: (867, 2)\n",
      "Test y: (288, 2)\n",
      "Val y: (291, 2)\n"
     ]
    }
   ],
   "source": [
    "# split into x & y and check shape\n",
    "train_img = train_images\n",
    "test_img = test_images\n",
    "val_img = val_images\n",
    "\n",
    "print(\"Train X:\", train_img.shape)\n",
    "print(\"Test X:\", test_img.shape)\n",
    "print(\"Val X:\", val_img.shape)\n",
    "\n",
    "train_y = train_labels\n",
    "test_y = test_labels\n",
    "val_y = val_labels\n",
    "\n",
    "print(\"\\n\")\n",
    "print(\"Train y:\", train_y.shape)\n",
    "print(\"Test y:\", test_y.shape)\n",
    "print(\"Val y:\", val_y.shape)"
   ]
  },
  {
   "cell_type": "markdown",
   "metadata": {},
   "source": [
    "## Design a base model"
   ]
  },
  {
   "cell_type": "code",
   "execution_count": 32,
   "metadata": {},
   "outputs": [],
   "source": [
    "# instantiate the model \n",
    "model = models.Sequential()\n",
    "\n",
    "# you need alternating convolutional and pooling layers\n",
    "# first kernel_size is 7x7 because my image size is > 128x128\n",
    "# source: https://www.pyimagesearch.com/2018/12/31/keras-conv2d-and-convolutional-layers/\n",
    "\n",
    "model.add(layers.Conv2D(32, (7, 7), activation='relu',\n",
    "                        input_shape=(140, 140, 3))) # in the first layer add an input shape\n",
    "model.add(layers.MaxPooling2D((2, 2)))\n",
    "\n",
    "model.add(layers.Conv2D(64, (3, 3), activation='relu'))\n",
    "model.add(layers.MaxPooling2D((2, 2)))\n",
    "\n",
    "model.add(layers.Conv2D(128, (3, 3), activation='relu'))\n",
    "model.add(layers.MaxPooling2D((2, 2)))\n",
    "\n",
    "model.add(layers.Flatten())\n",
    "model.add(layers.Dense(512, activation='relu'))\n",
    "model.add(layers.Dense(2, activation='sigmoid'))\n",
    "\n",
    "# add in metrics for evaluations\n",
    "model.compile(loss='binary_crossentropy',\n",
    "              optimizer=\"sgd\",\n",
    "              metrics=['acc'])"
   ]
  },
  {
   "cell_type": "code",
   "execution_count": 33,
   "metadata": {
    "scrolled": true
   },
   "outputs": [
    {
     "name": "stdout",
     "output_type": "stream",
     "text": [
      "Train on 867 samples, validate on 291 samples\n",
      "Epoch 1/30\n",
      "867/867 [==============================] - 28s 32ms/step - loss: 0.6825 - acc: 0.5882 - val_loss: 0.6683 - val_acc: 0.5378\n",
      "Epoch 2/30\n",
      "867/867 [==============================] - 25s 29ms/step - loss: 0.6269 - acc: 0.7191 - val_loss: 0.6674 - val_acc: 0.5550\n",
      "Epoch 3/30\n",
      "867/867 [==============================] - 25s 29ms/step - loss: 0.5505 - acc: 0.7238 - val_loss: 0.5516 - val_acc: 0.6718\n",
      "Epoch 4/30\n",
      "867/867 [==============================] - 25s 29ms/step - loss: 0.5256 - acc: 0.7301 - val_loss: 0.4305 - val_acc: 0.8419\n",
      "Epoch 5/30\n",
      "867/867 [==============================] - 25s 29ms/step - loss: 0.4667 - acc: 0.7630 - val_loss: 1.3632 - val_acc: 0.5292\n",
      "Epoch 6/30\n",
      "867/867 [==============================] - 25s 28ms/step - loss: 0.5048 - acc: 0.7532 - val_loss: 0.4706 - val_acc: 0.7646\n",
      "Epoch 7/30\n",
      "867/867 [==============================] - 25s 29ms/step - loss: 0.4548 - acc: 0.7930 - val_loss: 1.2661 - val_acc: 0.5395\n",
      "Epoch 8/30\n",
      "867/867 [==============================] - 27s 31ms/step - loss: 0.4884 - acc: 0.7872 - val_loss: 0.4307 - val_acc: 0.8058\n",
      "Epoch 9/30\n",
      "867/867 [==============================] - 25s 29ms/step - loss: 0.4369 - acc: 0.8068 - val_loss: 0.5538 - val_acc: 0.7165\n",
      "Epoch 10/30\n",
      "867/867 [==============================] - 25s 28ms/step - loss: 0.4210 - acc: 0.8074 - val_loss: 0.9311 - val_acc: 0.5945\n",
      "Epoch 11/30\n",
      "867/867 [==============================] - 25s 29ms/step - loss: 0.4307 - acc: 0.8085 - val_loss: 0.7626 - val_acc: 0.6426\n",
      "Epoch 12/30\n",
      "867/867 [==============================] - 25s 29ms/step - loss: 0.4032 - acc: 0.8270 - val_loss: 0.6448 - val_acc: 0.7045\n",
      "Epoch 13/30\n",
      "867/867 [==============================] - 25s 29ms/step - loss: 0.3893 - acc: 0.8356 - val_loss: 0.3923 - val_acc: 0.8179\n",
      "Epoch 14/30\n",
      "867/867 [==============================] - 25s 28ms/step - loss: 0.3790 - acc: 0.8293 - val_loss: 0.3756 - val_acc: 0.8368\n",
      "Epoch 15/30\n",
      "867/867 [==============================] - 24s 28ms/step - loss: 0.3924 - acc: 0.8241 - val_loss: 0.3187 - val_acc: 0.8729\n",
      "Epoch 16/30\n",
      "867/867 [==============================] - 25s 28ms/step - loss: 0.3520 - acc: 0.8403 - val_loss: 0.3194 - val_acc: 0.8625\n",
      "Epoch 17/30\n",
      "867/867 [==============================] - 25s 29ms/step - loss: 0.3896 - acc: 0.8276 - val_loss: 0.3393 - val_acc: 0.8711\n",
      "Epoch 18/30\n",
      "867/867 [==============================] - 25s 29ms/step - loss: 0.3849 - acc: 0.8356 - val_loss: 0.7118 - val_acc: 0.6924\n",
      "Epoch 19/30\n",
      "867/867 [==============================] - 25s 28ms/step - loss: 0.3636 - acc: 0.8293 - val_loss: 0.5380 - val_acc: 0.7423\n",
      "Epoch 20/30\n",
      "867/867 [==============================] - 25s 28ms/step - loss: 0.3484 - acc: 0.8460 - val_loss: 0.3132 - val_acc: 0.8797\n",
      "Epoch 21/30\n",
      "867/867 [==============================] - 25s 28ms/step - loss: 0.3330 - acc: 0.8581 - val_loss: 0.3497 - val_acc: 0.8488\n",
      "Epoch 22/30\n",
      "867/867 [==============================] - 25s 28ms/step - loss: 0.3352 - acc: 0.8558 - val_loss: 0.2986 - val_acc: 0.8832\n",
      "Epoch 23/30\n",
      "867/867 [==============================] - 25s 29ms/step - loss: 0.3677 - acc: 0.8408 - val_loss: 0.3915 - val_acc: 0.8213\n",
      "Epoch 24/30\n",
      "867/867 [==============================] - 25s 29ms/step - loss: 0.3323 - acc: 0.8604 - val_loss: 0.3210 - val_acc: 0.8729\n",
      "Epoch 25/30\n",
      "867/867 [==============================] - 28s 32ms/step - loss: 0.3323 - acc: 0.8547 - val_loss: 0.4337 - val_acc: 0.8093\n",
      "Epoch 26/30\n",
      "867/867 [==============================] - 25s 29ms/step - loss: 0.3352 - acc: 0.8587 - val_loss: 0.3146 - val_acc: 0.8797\n",
      "Epoch 27/30\n",
      "867/867 [==============================] - 25s 29ms/step - loss: 0.3176 - acc: 0.8737 - val_loss: 0.4265 - val_acc: 0.8162\n",
      "Epoch 28/30\n",
      "867/867 [==============================] - 25s 29ms/step - loss: 0.3208 - acc: 0.8581 - val_loss: 1.2366 - val_acc: 0.6100\n",
      "Epoch 29/30\n",
      "867/867 [==============================] - 25s 29ms/step - loss: 0.3562 - acc: 0.8610 - val_loss: 0.4111 - val_acc: 0.8213\n",
      "Epoch 30/30\n",
      "867/867 [==============================] - 25s 29ms/step - loss: 0.2998 - acc: 0.8858 - val_loss: 0.9689 - val_acc: 0.6735\n"
     ]
    }
   ],
   "source": [
    "# evaluate base model\n",
    "history = model.fit(#train_img,\n",
    "                    #train_y,\n",
    "                    epochs=30,\n",
    "                    batch_size=32,\n",
    "                    validation_data=(val_img, val_y))"
   ]
  },
  {
   "cell_type": "code",
   "execution_count": 34,
   "metadata": {},
   "outputs": [
    {
     "name": "stdout",
     "output_type": "stream",
     "text": [
      "867/867 [==============================] - 6s 7ms/step\n"
     ]
    },
    {
     "data": {
      "text/plain": [
       "[0.9110229510337011, 0.6851211190223694]"
      ]
     },
     "execution_count": 34,
     "metadata": {},
     "output_type": "execute_result"
    }
   ],
   "source": [
    "results_train = model.evaluate(train_img, train_y)\n",
    "results_train"
   ]
  },
  {
   "cell_type": "code",
   "execution_count": 35,
   "metadata": {},
   "outputs": [
    {
     "name": "stdout",
     "output_type": "stream",
     "text": [
      "288/288 [==============================] - 2s 7ms/step\n"
     ]
    },
    {
     "data": {
      "text/plain": [
       "[1.0830462906095717, 0.640625]"
      ]
     },
     "execution_count": 35,
     "metadata": {},
     "output_type": "execute_result"
    }
   ],
   "source": [
    "results_test = model.evaluate(test_img, test_y)\n",
    "results_test"
   ]
  },
  {
   "cell_type": "code",
   "execution_count": 37,
   "metadata": {},
   "outputs": [
    {
     "data": {
      "image/png": "[encoded data removed]",
      "text/plain": [
       "<Figure size 432x288 with 1 Axes>"
      ]
     },
     "metadata": {
      "needs_background": "light"
     },
     "output_type": "display_data"
    },
    {
     "data": {
      "image/png": "[encoded data removed]",
      "text/plain": [
       "<Figure size 432x288 with 1 Axes>"
      ]
     },
     "metadata": {
      "needs_background": "light"
     },
     "output_type": "display_data"
    }
   ],
   "source": [
    "# to mass comment out: select all and ctrl + / \n",
    "acc = history.history['acc']\n",
    "val_acc = history.history['val_acc']\n",
    "loss = history.history['loss']\n",
    "val_loss = history.history['val_loss']\n",
    "epochs = range(len(acc))\n",
    "plt.plot(epochs, acc, 'bo', label='Training acc')\n",
    "plt.plot(epochs, val_acc, 'b', label='Validation acc')\n",
    "plt.title('Training and validation accuracy')\n",
    "plt.legend()\n",
    "plt.figure()\n",
    "plt.plot(epochs, loss, 'bo', label='Training loss')\n",
    "plt.plot(epochs, val_loss, 'b', label='Validation loss')\n",
    "plt.title('Training and validation loss')\n",
    "plt.legend()\n",
    "plt.show()"
   ]
  },
  {
   "cell_type": "code",
   "execution_count": 40,
   "metadata": {},
   "outputs": [],
   "source": [
    "# save model \n",
    "model.save('hab_base_model.h5')"
   ]
  },
  {
   "cell_type": "markdown",
   "metadata": {},
   "source": [
    "## Design an augmented model"
   ]
  },
  {
   "cell_type": "code",
   "execution_count": 41,
   "metadata": {},
   "outputs": [
    {
     "name": "stdout",
     "output_type": "stream",
     "text": [
      "Found 867 images belonging to 2 classes.\n",
      "Found 291 images belonging to 2 classes.\n"
     ]
    }
   ],
   "source": [
    "# augmentation \n",
    "# reshape the images, flip, rotate and adjust brightness using Keras\n",
    "\n",
    "test_generator = ImageDataGenerator(rescale=1./255)\n",
    "\n",
    "train_generator = ImageDataGenerator(rescale=1./255, \n",
    "                                     rotation_range=90, \n",
    "                                     brightness_range=[0.2,1.5], \n",
    "                                     horizontal_flip=True).flow_from_directory('split/train/', \n",
    "                                                                               target_size=(140, 140), \n",
    "                                                                               batch_size=871)\n",
    "\n",
    "val_generator = ImageDataGenerator(rescale=1./255, \n",
    "                                   rotation_range=90,\n",
    "                                   brightness_range=[0.2,1.5], \n",
    "                                   horizontal_flip=True).flow_from_directory('split/validation/', \n",
    "                                                                             target_size=(140, 140), \n",
    "                                                                             batch_size = 294)"
   ]
  },
  {
   "cell_type": "code",
   "execution_count": 42,
   "metadata": {
    "scrolled": true
   },
   "outputs": [
    {
     "name": "stdout",
     "output_type": "stream",
     "text": [
      "Train on 867 samples, validate on 291 samples\n",
      "Epoch 1/30\n",
      "867/867 [==============================] - 30s 35ms/step - loss: 0.3267 - acc: 0.8627 - val_loss: 0.2939 - val_acc: 0.9003\n",
      "Epoch 2/30\n",
      "867/867 [==============================] - 25s 29ms/step - loss: 0.2951 - acc: 0.8870 - val_loss: 1.1827 - val_acc: 0.6031\n",
      "Epoch 3/30\n",
      "867/867 [==============================] - 25s 29ms/step - loss: 0.3406 - acc: 0.8697 - val_loss: 0.4541 - val_acc: 0.7990\n",
      "Epoch 4/30\n",
      "867/867 [==============================] - 27s 31ms/step - loss: 0.3082 - acc: 0.8697 - val_loss: 0.2944 - val_acc: 0.8866\n",
      "Epoch 5/30\n",
      "867/867 [==============================] - 26s 30ms/step - loss: 0.3205 - acc: 0.8679 - val_loss: 0.2916 - val_acc: 0.8900\n",
      "Epoch 6/30\n",
      "867/867 [==============================] - 25s 28ms/step - loss: 0.2959 - acc: 0.8875 - val_loss: 0.2944 - val_acc: 0.8849\n",
      "Epoch 7/30\n",
      "867/867 [==============================] - 25s 29ms/step - loss: 0.2788 - acc: 0.8899 - val_loss: 0.3070 - val_acc: 0.8797\n",
      "Epoch 8/30\n",
      "867/867 [==============================] - 25s 28ms/step - loss: 0.2821 - acc: 0.8904 - val_loss: 0.4738 - val_acc: 0.8058\n",
      "Epoch 9/30\n",
      "867/867 [==============================] - 25s 29ms/step - loss: 0.3069 - acc: 0.8737 - val_loss: 0.2930 - val_acc: 0.8849\n",
      "Epoch 10/30\n",
      "867/867 [==============================] - 25s 28ms/step - loss: 0.2719 - acc: 0.8956 - val_loss: 0.2879 - val_acc: 0.8918\n",
      "Epoch 11/30\n",
      "867/867 [==============================] - 25s 29ms/step - loss: 0.2551 - acc: 0.8910 - val_loss: 0.3690 - val_acc: 0.8505\n",
      "Epoch 12/30\n",
      "867/867 [==============================] - 25s 29ms/step - loss: 0.2729 - acc: 0.8985 - val_loss: 0.7130 - val_acc: 0.6959\n",
      "Epoch 13/30\n",
      "867/867 [==============================] - 25s 29ms/step - loss: 0.2888 - acc: 0.8870 - val_loss: 0.4261 - val_acc: 0.8265\n",
      "Epoch 14/30\n",
      "867/867 [==============================] - 28s 33ms/step - loss: 0.2671 - acc: 0.8927 - val_loss: 0.6589 - val_acc: 0.7302\n",
      "Epoch 15/30\n",
      "867/867 [==============================] - 27s 31ms/step - loss: 0.2843 - acc: 0.8881 - val_loss: 0.2950 - val_acc: 0.8866\n",
      "Epoch 16/30\n",
      "867/867 [==============================] - 33s 38ms/step - loss: 0.2324 - acc: 0.9054 - val_loss: 0.3185 - val_acc: 0.8866\n",
      "Epoch 17/30\n",
      "867/867 [==============================] - 26s 30ms/step - loss: 0.2440 - acc: 0.9043 - val_loss: 0.4179 - val_acc: 0.8196\n",
      "Epoch 18/30\n",
      "867/867 [==============================] - 28s 33ms/step - loss: 0.2672 - acc: 0.8933 - val_loss: 0.2974 - val_acc: 0.8918\n",
      "Epoch 19/30\n",
      "867/867 [==============================] - 25s 28ms/step - loss: 0.2319 - acc: 0.9072 - val_loss: 1.0297 - val_acc: 0.5928\n",
      "Epoch 20/30\n",
      "867/867 [==============================] - 25s 29ms/step - loss: 0.2545 - acc: 0.9095 - val_loss: 0.3099 - val_acc: 0.8814\n",
      "Epoch 21/30\n",
      "867/867 [==============================] - 31s 36ms/step - loss: 0.2472 - acc: 0.9072 - val_loss: 0.2756 - val_acc: 0.8866\n",
      "Epoch 22/30\n",
      "867/867 [==============================] - 33s 37ms/step - loss: 0.2425 - acc: 0.9031 - val_loss: 0.4148 - val_acc: 0.8282\n",
      "Epoch 23/30\n",
      "867/867 [==============================] - 30s 35ms/step - loss: 0.2348 - acc: 0.9146 - val_loss: 0.3280 - val_acc: 0.8832\n",
      "Epoch 24/30\n",
      "867/867 [==============================] - 25s 29ms/step - loss: 0.2074 - acc: 0.9198 - val_loss: 0.5757 - val_acc: 0.7801\n",
      "Epoch 25/30\n",
      "867/867 [==============================] - 25s 29ms/step - loss: 0.2732 - acc: 0.8933 - val_loss: 1.2450 - val_acc: 0.5155\n",
      "Epoch 26/30\n",
      "867/867 [==============================] - 26s 30ms/step - loss: 0.2709 - acc: 0.9048 - val_loss: 0.4749 - val_acc: 0.7955\n",
      "Epoch 27/30\n",
      "867/867 [==============================] - 28s 32ms/step - loss: 0.2076 - acc: 0.9245 - val_loss: 0.6454 - val_acc: 0.7955\n",
      "Epoch 28/30\n",
      "867/867 [==============================] - 30s 34ms/step - loss: 0.2183 - acc: 0.9216 - val_loss: 0.2868 - val_acc: 0.8952\n",
      "Epoch 29/30\n",
      "867/867 [==============================] - 29s 33ms/step - loss: 0.1998 - acc: 0.9221 - val_loss: 0.2575 - val_acc: 0.9089\n",
      "Epoch 30/30\n",
      "867/867 [==============================] - 27s 31ms/step - loss: 0.1825 - acc: 0.9383 - val_loss: 0.5677 - val_acc: 0.8058\n"
     ]
    }
   ],
   "source": [
    "# evaluate augmented model\n",
    "history = model.fit(train_img,\n",
    "                    train_y,\n",
    "                    epochs=30,\n",
    "                    batch_size=32,\n",
    "                    validation_data=(val_img, val_y))"
   ]
  },
  {
   "cell_type": "code",
   "execution_count": 43,
   "metadata": {},
   "outputs": [
    {
     "name": "stdout",
     "output_type": "stream",
     "text": [
      "867/867 [==============================] - 6s 7ms/step\n"
     ]
    },
    {
     "data": {
      "text/plain": [
       "[0.40962312904196213, 0.8437139391899109]"
      ]
     },
     "execution_count": 43,
     "metadata": {},
     "output_type": "execute_result"
    }
   ],
   "source": [
    "# Final evaluation\n",
    "results_train = model.evaluate(train_img, train_y)\n",
    "results_train"
   ]
  },
  {
   "cell_type": "code",
   "execution_count": 44,
   "metadata": {
    "scrolled": true
   },
   "outputs": [
    {
     "name": "stdout",
     "output_type": "stream",
     "text": [
      "288/288 [==============================] - 2s 7ms/step\n"
     ]
    },
    {
     "data": {
      "text/plain": [
       "[0.686707980102963, 0.7777777910232544]"
      ]
     },
     "execution_count": 44,
     "metadata": {},
     "output_type": "execute_result"
    }
   ],
   "source": [
    "results_test = model.evaluate(test_img, test_y)\n",
    "results_test"
   ]
  },
  {
   "cell_type": "code",
   "execution_count": 45,
   "metadata": {
    "scrolled": true
   },
   "outputs": [
    {
     "data": {
      "image/png": "[encoded data removed]",
      "text/plain": [
       "<Figure size 432x288 with 1 Axes>"
      ]
     },
     "metadata": {
      "needs_background": "light"
     },
     "output_type": "display_data"
    },
    {
     "data": {
      "image/png": "[encoded data removed]",
      "text/plain": [
       "<Figure size 432x288 with 1 Axes>"
      ]
     },
     "metadata": {
      "needs_background": "light"
     },
     "output_type": "display_data"
    }
   ],
   "source": [
    "acc = history.history['acc']\n",
    "val_acc = history.history['val_acc']\n",
    "loss = history.history['loss']\n",
    "val_loss = history.history['val_loss']\n",
    "epochs = range(len(acc))\n",
    "plt.plot(epochs, acc, 'bo', label='Training acc')\n",
    "plt.plot(epochs, val_acc, 'b', label='Validation acc')\n",
    "plt.title('Training and validation accuracy')\n",
    "plt.legend()\n",
    "plt.figure()\n",
    "plt.plot(epochs, loss, 'bo', label='Training loss')\n",
    "plt.plot(epochs, val_loss, 'b', label='Validation loss')\n",
    "plt.title('Training and validation loss')\n",
    "plt.legend()\n",
    "plt.show()"
   ]
  },
  {
   "cell_type": "code",
   "execution_count": 46,
   "metadata": {},
   "outputs": [],
   "source": [
    "model.save('hab_augmented_model.h5')"
   ]
  },
  {
   "cell_type": "code",
   "execution_count": 1,
   "metadata": {},
   "outputs": [
    {
     "ename": "NameError",
     "evalue": "name 'test_datagen' is not defined",
     "output_type": "error",
     "traceback": [
      "\u001b[0;31m---------------------------------------------------------------------------\u001b[0m",
      "\u001b[0;31mNameError\u001b[0m                                 Traceback (most recent call last)",
      "\u001b[0;32m<ipython-input-1-abf36ed0a5e5>\u001b[0m in \u001b[0;36m<module>\u001b[0;34m\u001b[0m\n\u001b[1;32m      1\u001b[0m \u001b[0;31m# final results\u001b[0m\u001b[0;34m\u001b[0m\u001b[0;34m\u001b[0m\u001b[0;34m\u001b[0m\u001b[0m\n\u001b[0;32m----> 2\u001b[0;31m test_generator = test_datagen.flow_from_directory(test_dir, \n\u001b[0m\u001b[1;32m      3\u001b[0m                                                   \u001b[0mtarget_size\u001b[0m\u001b[0;34m=\u001b[0m\u001b[0;34m(\u001b[0m\u001b[0;36m150\u001b[0m\u001b[0;34m,\u001b[0m \u001b[0;36m150\u001b[0m\u001b[0;34m)\u001b[0m\u001b[0;34m,\u001b[0m\u001b[0;34m\u001b[0m\u001b[0;34m\u001b[0m\u001b[0m\n\u001b[1;32m      4\u001b[0m                                                   \u001b[0mbatch_size\u001b[0m\u001b[0;34m=\u001b[0m\u001b[0;36m20\u001b[0m\u001b[0;34m,\u001b[0m\u001b[0;34m\u001b[0m\u001b[0;34m\u001b[0m\u001b[0m\n\u001b[1;32m      5\u001b[0m                                                   class_mode='binary')\n",
      "\u001b[0;31mNameError\u001b[0m: name 'test_datagen' is not defined"
     ]
    }
   ],
   "source": [
    "# final results \n",
    "test_generator = test_datagen.flow_from_directory(test_dir, \n",
    "                                                  target_size=(150, 150), \n",
    "                                                  batch_size=20, \n",
    "                                                  class_mode='binary')\n",
    "test_loss, test_acc = model.evaluate_generator(test_generator, steps=50)\n",
    "print('test acc:', test_acc)"
   ]
  },
  {
   "cell_type": "code",
   "execution_count": null,
   "metadata": {},
   "outputs": [],
   "source": [
    "# results, conclusions"
   ]
  },
  {
   "cell_type": "code",
   "execution_count": null,
   "metadata": {},
   "outputs": [],
   "source": [
    "# build new model"
   ]
  }
 ],
 "metadata": {
  "kernelspec": {
   "display_name": "Python 3",
   "language": "python",
   "name": "python3"
  },
  "language_info": {
   "codemirror_mode": {
    "name": "ipython",
    "version": 3
   },
   "file_extension": ".py",
   "mimetype": "text/x-python",
   "name": "python",
   "nbconvert_exporter": "python",
   "pygments_lexer": "ipython3",
   "version": "3.7.5"
  }
 },
 "nbformat": 4,
 "nbformat_minor": 2
}
