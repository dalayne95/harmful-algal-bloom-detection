{
 "cells": [
  {
   "cell_type": "markdown",
   "metadata": {},
   "source": [
    "# Computer Detection of Harmful Algal Bloooms"
   ]
  },
  {
   "cell_type": "markdown",
   "metadata": {},
   "source": [
    "![algal bloom](download.jpeg)"
   ]
  },
  {
   "cell_type": "markdown",
   "metadata": {},
   "source": [
    "## The problem \n",
    "\n",
    "Phytoplankton are single-celled algae that live in freshwater, saltwater, and everywhere in between. Algal blooms, big explosions of phytoplankton growth, happen naturally every late spring and early fall all around the globe. Sometimes, blooms grow out of control for a variety of reasons: excess of nutrient from land based runoff, influx of freshwater, higher than normal temperatures. These are called Harmful Algal Blooms (HABs). HABs pose a threat to human health and ecosystem health. \n",
    "\n",
    "![hab facts](download1.jpeg)\n",
    "\n",
    "Early detection of algal blooms from imagery can help scientists and policy makers sample blooms as soon as possible to determine if they are toxic, and make important decisions regarding public health: beach closures, fisherman warnings, and seafood warnings can all help humans avoid harmful effects of HABS. My goal is to create a model that classifies algal blooms using imagery obtained from Google. Algal blooms come in all differnet shapes, sizes and colors, and this highly varied dataset will hopefully lead to a model that is able to classsify algal blooms in all forms. "
   ]
  },
  {
   "cell_type": "markdown",
   "metadata": {},
   "source": [
    "## Imports and Settings "
   ]
  },
  {
   "cell_type": "code",
   "execution_count": 4,
   "metadata": {},
   "outputs": [],
   "source": [
    "import pandas as pd\n",
    "import numpy as np\n",
    "import os\n",
    "import glob\n",
    "import  PIL\n",
    "from PIL import Image\n",
    "import cv2\n",
    "import time\n",
    "import matplotlib.pyplot as plt\n",
    "import scipy\n",
    "from scipy import ndimage\n",
    "from keras.preprocessing.image import ImageDataGenerator, array_to_img, img_to_array, load_img\n",
    "from keras import models\n",
    "from keras import layers\n",
    "%matplotlib inline\n",
    "\n",
    "# custom function\n",
    "from data_cleaning import *"
   ]
  },
  {
   "cell_type": "markdown",
   "metadata": {},
   "source": [
    "## Image Preprocessing\n",
    "\n",
    "The first step in my process was image preprocessing. This was an iterative process that I completed over several days. In summary the steps I took were as follows:\n",
    "\n",
    "**Step 1: Splitting the data into folders**\n",
    "\n",
    "This step was completed with a python script, split.py. I initially had the images split up into two folders: algae and not-algae. I created a new directory named split that contained an algae and not-algae folder and divided these images in 80/20/20 percentages across the train, test and validation folders, respectively.  \n",
    "\n",
    "**Step 2: Resizing the images**\n",
    "\n",
    "**Step 3: Rescaling the images**\n",
    "\n",
    "**Step 4: Image Augmentation**"
   ]
  },
  {
   "cell_type": "code",
   "execution_count": 5,
   "metadata": {},
   "outputs": [
    {
     "name": "stdout",
     "output_type": "stream",
     "text": [
      "images appended!\n",
      "(140, 100)\n",
      "images appended!\n",
      "(160, 237)\n",
      "images appended!\n",
      "(140, 100)\n",
      "images appended!\n",
      "(153, 110)\n",
      "images appended!\n",
      "(140, 100)\n",
      "images appended!\n",
      "(200, 160)\n"
     ]
    }
   ],
   "source": [
    "# get_img_stats is a function loaded in from data_cleaning.py\n",
    "# it loops through each directory and gets the dimensions of each image and prints the minimum\n",
    "\n",
    "test_algae = \"split/test/algae/*\"\n",
    "test_not_algae = \"split/test/not_algae/*\"\n",
    "get_img_stats(test_algae)\n",
    "get_img_stats(test_not_algae)\n",
    "\n",
    "train_algae = \"split/train/algae/*\"\n",
    "train_not_algae = \"split/train/not_algae/*\"\n",
    "get_img_stats(train_algae)\n",
    "get_img_stats(train_not_algae)\n",
    "\n",
    "val_algae = \"split/validation/algae/*\"\n",
    "val_not_algae = \"split/validation/not_algae/*\"\n",
    "get_img_stats(val_algae)\n",
    "get_img_stats(val_not_algae)"
   ]
  },
  {
   "cell_type": "code",
   "execution_count": 6,
   "metadata": {},
   "outputs": [
    {
     "name": "stdout",
     "output_type": "stream",
     "text": [
      "Found 867 images belonging to 2 classes.\n",
      "Found 291 images belonging to 2 classes.\n"
     ]
    }
   ],
   "source": [
    "# build a baseline data generator\n",
    "train_dir = 'split/train/'\n",
    "validation_dir = 'split/validation/'\n",
    "test_dir = 'split/test/'\n",
    "\n",
    "# All images will be rescaled by 1./255\n",
    "train_datagen = ImageDataGenerator(rescale=1./255)\n",
    "test_datagen = ImageDataGenerator(rescale=1./255)\n",
    "\n",
    "train_generator = train_datagen.flow_from_directory(train_dir, \n",
    "                                                    target_size=(140, 140),\n",
    "                                                    batch_size=32)\n",
    "\n",
    "validation_generator = test_datagen.flow_from_directory(validation_dir,\n",
    "                                                        target_size=(140, 140),\n",
    "                                                        batch_size=32)\n",
    "                                                        #class_mode='binary')"
   ]
  },
  {
   "cell_type": "markdown",
   "metadata": {},
   "source": [
    "## Modeling"
   ]
  },
  {
   "cell_type": "markdown",
   "metadata": {},
   "source": [
    "### Build the model"
   ]
  },
  {
   "cell_type": "code",
   "execution_count": 7,
   "metadata": {},
   "outputs": [],
   "source": [
    "# instantiate the model \n",
    "model = models.Sequential()\n",
    "\n",
    "# you need alternating convolutional and pooling layers\n",
    "# first kernel_size is 7x7 because my image size is > 128x128\n",
    "# source: https://www.pyimagesearch.com/2018/12/31/keras-conv2d-and-convolutional-layers/\n",
    "\n",
    "model.add(layers.Conv2D(32, (7, 7), activation='relu',\n",
    "                        input_shape=(140, 140, 3))) # in the first layer add an input shape\n",
    "model.add(layers.MaxPooling2D((2, 2)))\n",
    "\n",
    "model.add(layers.Conv2D(64, (3, 3), activation='relu'))\n",
    "model.add(layers.MaxPooling2D((2, 2)))\n",
    "\n",
    "model.add(layers.Conv2D(128, (3, 3), activation='relu'))\n",
    "model.add(layers.MaxPooling2D((2, 2)))\n",
    "\n",
    "model.add(layers.Flatten())\n",
    "model.add(layers.Dense(512, activation='relu'))\n",
    "model.add(layers.Dense(2, activation='sigmoid'))\n",
    "\n",
    "# add in metrics for evaluations\n",
    "model.compile(loss='binary_crossentropy',\n",
    "              optimizer=\"sgd\",\n",
    "              metrics=['acc'])"
   ]
  },
  {
   "cell_type": "markdown",
   "metadata": {},
   "source": [
    "### Train the model"
   ]
  },
  {
   "cell_type": "code",
   "execution_count": 8,
   "metadata": {
    "scrolled": true
   },
   "outputs": [
    {
     "name": "stdout",
     "output_type": "stream",
     "text": [
      "Epoch 1/30\n",
      "100/100 [==============================] - 138s 1s/step - loss: 0.5877 - acc: 0.7078 - val_loss: 1.1311 - val_acc: 0.8162\n",
      "Epoch 2/30\n",
      "100/100 [==============================] - 117s 1s/step - loss: 0.4964 - acc: 0.7696 - val_loss: 0.1934 - val_acc: 0.8557\n",
      "Epoch 3/30\n",
      "100/100 [==============================] - 136s 1s/step - loss: 0.4058 - acc: 0.8145 - val_loss: 0.9803 - val_acc: 0.8729\n",
      "Epoch 4/30\n",
      "100/100 [==============================] - 123s 1s/step - loss: 0.4050 - acc: 0.8341 - val_loss: 0.1791 - val_acc: 0.8883\n",
      "Epoch 5/30\n",
      "100/100 [==============================] - 110s 1s/step - loss: 0.3645 - acc: 0.8416 - val_loss: 0.1200 - val_acc: 0.8196\n",
      "Epoch 6/30\n",
      "100/100 [==============================] - 134s 1s/step - loss: 0.3358 - acc: 0.8612 - val_loss: 0.2107 - val_acc: 0.8007\n",
      "Epoch 7/30\n",
      "100/100 [==============================] - 137s 1s/step - loss: 0.3240 - acc: 0.8627 - val_loss: 0.1071 - val_acc: 0.9107\n",
      "Epoch 8/30\n",
      "100/100 [==============================] - 135s 1s/step - loss: 0.3015 - acc: 0.8783 - val_loss: 0.2755 - val_acc: 0.9038\n",
      "Epoch 9/30\n",
      "100/100 [==============================] - 130s 1s/step - loss: 0.2842 - acc: 0.8900 - val_loss: 0.0832 - val_acc: 0.8282\n",
      "Epoch 10/30\n",
      "100/100 [==============================] - 128s 1s/step - loss: 0.2743 - acc: 0.8899 - val_loss: 0.0517 - val_acc: 0.9003\n",
      "Epoch 11/30\n",
      "100/100 [==============================] - 129s 1s/step - loss: 0.2896 - acc: 0.8910 - val_loss: 0.3130 - val_acc: 0.7595\n",
      "Epoch 12/30\n",
      "100/100 [==============================] - 134s 1s/step - loss: 0.2552 - acc: 0.8998 - val_loss: 0.0559 - val_acc: 0.9124\n",
      "Epoch 13/30\n",
      "100/100 [==============================] - 111s 1s/step - loss: 0.2335 - acc: 0.9128 - val_loss: 0.3286 - val_acc: 0.8900\n",
      "Epoch 14/30\n",
      "100/100 [==============================] - 107s 1s/step - loss: 0.2198 - acc: 0.9158 - val_loss: 0.5552 - val_acc: 0.9055\n",
      "Epoch 15/30\n",
      "100/100 [==============================] - 103s 1s/step - loss: 0.2232 - acc: 0.9144 - val_loss: 0.1464 - val_acc: 0.9141\n",
      "Epoch 16/30\n",
      "100/100 [==============================] - 102s 1s/step - loss: 0.1882 - acc: 0.9287 - val_loss: 0.0180 - val_acc: 0.8918\n",
      "Epoch 17/30\n",
      "100/100 [==============================] - 112s 1s/step - loss: 0.1792 - acc: 0.9355 - val_loss: 0.0483 - val_acc: 0.9003\n",
      "Epoch 18/30\n",
      "100/100 [==============================] - 112s 1s/step - loss: 0.1977 - acc: 0.9306 - val_loss: 0.0265 - val_acc: 0.9003\n",
      "Epoch 19/30\n",
      "100/100 [==============================] - 116s 1s/step - loss: 0.1448 - acc: 0.9497 - val_loss: 0.0032 - val_acc: 0.9089\n",
      "Epoch 20/30\n",
      "100/100 [==============================] - 122s 1s/step - loss: 0.1200 - acc: 0.9591 - val_loss: 0.0191 - val_acc: 0.9175\n",
      "Epoch 21/30\n",
      "100/100 [==============================] - 106s 1s/step - loss: 0.1409 - acc: 0.9534 - val_loss: 0.0666 - val_acc: 0.9158\n",
      "Epoch 22/30\n",
      "100/100 [==============================] - 143s 1s/step - loss: 0.1897 - acc: 0.9447 - val_loss: 0.0041 - val_acc: 0.9261\n",
      "Epoch 23/30\n",
      "100/100 [==============================] - 145s 1s/step - loss: 0.1066 - acc: 0.9676 - val_loss: 0.0751 - val_acc: 0.9192\n",
      "Epoch 24/30\n",
      "100/100 [==============================] - 147s 1s/step - loss: 0.0730 - acc: 0.9804 - val_loss: 0.0241 - val_acc: 0.9158\n",
      "Epoch 25/30\n",
      "100/100 [==============================] - 153s 2s/step - loss: 0.1422 - acc: 0.9690 - val_loss: 0.0223 - val_acc: 0.9227\n",
      "Epoch 26/30\n",
      "100/100 [==============================] - 108s 1s/step - loss: 0.0492 - acc: 0.9888 - val_loss: 0.0650 - val_acc: 0.9227\n",
      "Epoch 27/30\n",
      "100/100 [==============================] - 112s 1s/step - loss: 0.1207 - acc: 0.9704 - val_loss: 0.2519 - val_acc: 0.9107\n",
      "Epoch 28/30\n",
      "100/100 [==============================] - 129s 1s/step - loss: 0.0347 - acc: 0.9950 - val_loss: 0.0293 - val_acc: 0.9107\n",
      "Epoch 29/30\n",
      "100/100 [==============================] - 118s 1s/step - loss: 0.0240 - acc: 0.9963 - val_loss: 1.6962 - val_acc: 0.9210\n",
      "Epoch 30/30\n",
      "100/100 [==============================] - 118s 1s/step - loss: 0.0172 - acc: 0.9987 - val_loss: 1.5432e-04 - val_acc: 0.9175\n"
     ]
    }
   ],
   "source": [
    "history = model.fit_generator(train_generator, \n",
    "                              steps_per_epoch=100, \n",
    "                              epochs=30, \n",
    "                              validation_data=validation_generator, \n",
    "                              validation_steps=50)"
   ]
  },
  {
   "cell_type": "code",
   "execution_count": 17,
   "metadata": {},
   "outputs": [],
   "source": [
    "model.save(\"algae_model_1.h5\")"
   ]
  },
  {
   "cell_type": "code",
   "execution_count": 15,
   "metadata": {},
   "outputs": [],
   "source": [
    "# from keras.models import load_model\n",
    "# model = load_model(\"test.h5\")"
   ]
  },
  {
   "cell_type": "code",
   "execution_count": 19,
   "metadata": {
    "scrolled": true
   },
   "outputs": [],
   "source": [
    "# model.summary()"
   ]
  },
  {
   "cell_type": "markdown",
   "metadata": {},
   "source": [
    "### Model Evaluation"
   ]
  },
  {
   "cell_type": "code",
   "execution_count": 18,
   "metadata": {
    "scrolled": false
   },
   "outputs": [
    {
     "data": {
      "image/png": "[encoded data removed]",
      "text/plain": [
       "<Figure size 432x288 with 1 Axes>"
      ]
     },
     "metadata": {
      "needs_background": "light"
     },
     "output_type": "display_data"
    },
    {
     "data": {
      "image/png": "[encoded data removed]",
      "text/plain": [
       "<Figure size 432x288 with 1 Axes>"
      ]
     },
     "metadata": {
      "needs_background": "light"
     },
     "output_type": "display_data"
    }
   ],
   "source": [
    "# to mass comment out: select all and ctrl + / \n",
    "acc = history.history['acc']\n",
    "val_acc = history.history['val_acc']\n",
    "loss = history.history['loss']\n",
    "val_loss = history.history['val_loss']\n",
    "epochs = range(len(acc))\n",
    "plt.plot(epochs, acc, 'bo', label='Training acc')\n",
    "plt.plot(epochs, val_acc, 'b', label='Validation acc')\n",
    "plt.title('Training and validation accuracy')\n",
    "plt.legend()\n",
    "plt.figure()\n",
    "plt.plot(epochs, loss, 'bo', label='Training loss')\n",
    "plt.plot(epochs, val_loss, 'b', label='Validation loss')\n",
    "plt.title('Training and validation loss')\n",
    "plt.legend()\n",
    "plt.show()"
   ]
  },
  {
   "cell_type": "markdown",
   "metadata": {},
   "source": [
    "### Augment data for modeling"
   ]
  },
  {
   "cell_type": "code",
   "execution_count": 20,
   "metadata": {},
   "outputs": [
    {
     "name": "stdout",
     "output_type": "stream",
     "text": [
      "Found 867 images belonging to 2 classes.\n",
      "Found 291 images belonging to 2 classes.\n"
     ]
    }
   ],
   "source": [
    "#augment the images\n",
    "train_datagen = ImageDataGenerator(rescale=1./255, \n",
    "                                     rotation_range=90, \n",
    "                                     brightness_range=[0.2,1.5], \n",
    "                                     horizontal_flip=True) \n",
    "                                                          \n",
    "\n",
    "test_datagen = ImageDataGenerator(rescale=1./255)\n",
    "\n",
    "train_generator = train_datagen.flow_from_directory(\n",
    "        train_dir,\n",
    "        target_size=(140, 140),\n",
    "        batch_size=32)\n",
    "\n",
    "validation_generator = test_datagen.flow_from_directory(validation_dir, \n",
    "                                                        target_size=(140, 140), \n",
    "                                                        batch_size=32)"
   ]
  },
  {
   "cell_type": "markdown",
   "metadata": {},
   "source": [
    "### Fit model with augmented data"
   ]
  },
  {
   "cell_type": "code",
   "execution_count": 21,
   "metadata": {
    "scrolled": true
   },
   "outputs": [
    {
     "name": "stdout",
     "output_type": "stream",
     "text": [
      "Epoch 1/30\n",
      "100/100 [==============================] - 116s 1s/step - loss: 0.2769 - acc: 0.8959 - val_loss: 0.0249 - val_acc: 0.9141\n",
      "Epoch 2/30\n",
      "100/100 [==============================] - 131s 1s/step - loss: 0.2418 - acc: 0.9057 - val_loss: 0.4552 - val_acc: 0.9021\n",
      "Epoch 3/30\n",
      "100/100 [==============================] - 127s 1s/step - loss: 0.2689 - acc: 0.8996 - val_loss: 0.1425 - val_acc: 0.8969\n",
      "Epoch 4/30\n",
      "100/100 [==============================] - 113s 1s/step - loss: 0.2388 - acc: 0.9097 - val_loss: 0.0065 - val_acc: 0.9278\n",
      "Epoch 5/30\n",
      "100/100 [==============================] - 106s 1s/step - loss: 0.2388 - acc: 0.9084 - val_loss: 0.0139 - val_acc: 0.9261\n",
      "Epoch 6/30\n",
      "100/100 [==============================] - 110s 1s/step - loss: 0.2331 - acc: 0.9074 - val_loss: 0.0344 - val_acc: 0.9192\n",
      "Epoch 7/30\n",
      "100/100 [==============================] - 107s 1s/step - loss: 0.2228 - acc: 0.9118 - val_loss: 0.0052 - val_acc: 0.9364\n",
      "Epoch 8/30\n",
      "100/100 [==============================] - 107s 1s/step - loss: 0.2181 - acc: 0.9159 - val_loss: 7.9261e-04 - val_acc: 0.9244\n",
      "Epoch 9/30\n",
      "100/100 [==============================] - 108s 1s/step - loss: 0.2181 - acc: 0.9121 - val_loss: 0.1152 - val_acc: 0.9124\n",
      "Epoch 10/30\n",
      "100/100 [==============================] - 113s 1s/step - loss: 0.2888 - acc: 0.8967 - val_loss: 0.1683 - val_acc: 0.9381\n",
      "Epoch 11/30\n",
      "100/100 [==============================] - 1520s 15s/step - loss: 0.2685 - acc: 0.9060 - val_loss: 0.0536 - val_acc: 0.9175\n",
      "Epoch 12/30\n",
      "100/100 [==============================] - 139s 1s/step - loss: 0.2291 - acc: 0.9150 - val_loss: 0.1372 - val_acc: 0.9158\n",
      "Epoch 13/30\n",
      "100/100 [==============================] - 123s 1s/step - loss: 0.1983 - acc: 0.9235 - val_loss: 0.0093 - val_acc: 0.9227\n",
      "Epoch 14/30\n",
      "100/100 [==============================] - 132s 1s/step - loss: 0.2069 - acc: 0.9244 - val_loss: 0.1493 - val_acc: 0.9278\n",
      "Epoch 15/30\n",
      "100/100 [==============================] - 144s 1s/step - loss: 0.1906 - acc: 0.9219 - val_loss: 0.4978 - val_acc: 0.9124\n",
      "Epoch 16/30\n",
      "100/100 [==============================] - 135s 1s/step - loss: 0.1896 - acc: 0.9288 - val_loss: 0.2093 - val_acc: 0.9261\n",
      "Epoch 17/30\n",
      "100/100 [==============================] - 141s 1s/step - loss: 0.1797 - acc: 0.9333 - val_loss: 1.6484e-04 - val_acc: 0.9210\n",
      "Epoch 18/30\n",
      "100/100 [==============================] - 142s 1s/step - loss: 0.3037 - acc: 0.8969 - val_loss: 0.0354 - val_acc: 0.8814\n",
      "Epoch 19/30\n",
      "100/100 [==============================] - 131s 1s/step - loss: 0.1859 - acc: 0.9314 - val_loss: 0.0848 - val_acc: 0.8918\n",
      "Epoch 20/30\n",
      "100/100 [==============================] - 146s 1s/step - loss: 0.1798 - acc: 0.9351 - val_loss: 0.0417 - val_acc: 0.9141\n",
      "Epoch 21/30\n",
      "100/100 [==============================] - 134s 1s/step - loss: 0.1633 - acc: 0.9374 - val_loss: 0.0034 - val_acc: 0.8866\n",
      "Epoch 22/30\n",
      "100/100 [==============================] - 151s 2s/step - loss: 0.1877 - acc: 0.9301 - val_loss: 0.0602 - val_acc: 0.8849\n",
      "Epoch 23/30\n",
      "100/100 [==============================] - 142s 1s/step - loss: 0.1690 - acc: 0.9412 - val_loss: 0.1130 - val_acc: 0.9038\n",
      "Epoch 24/30\n",
      "100/100 [==============================] - 126s 1s/step - loss: 0.1659 - acc: 0.9398 - val_loss: 1.0684 - val_acc: 0.8986\n",
      "Epoch 25/30\n",
      "100/100 [==============================] - 140s 1s/step - loss: 0.1607 - acc: 0.9381 - val_loss: 0.0011 - val_acc: 0.9175\n",
      "Epoch 26/30\n",
      "100/100 [==============================] - 139s 1s/step - loss: 0.1764 - acc: 0.9351 - val_loss: 0.8473 - val_acc: 0.9278\n",
      "Epoch 27/30\n",
      "100/100 [==============================] - 118s 1s/step - loss: 0.1425 - acc: 0.9430 - val_loss: 4.8507e-04 - val_acc: 0.9192\n",
      "Epoch 28/30\n",
      "100/100 [==============================] - 106s 1s/step - loss: 0.1433 - acc: 0.9402 - val_loss: 0.0048 - val_acc: 0.9021\n",
      "Epoch 29/30\n",
      "100/100 [==============================] - 107s 1s/step - loss: 0.1445 - acc: 0.9463 - val_loss: 0.0491 - val_acc: 0.9158\n",
      "Epoch 30/30\n",
      "100/100 [==============================] - 119s 1s/step - loss: 0.1440 - acc: 0.9420 - val_loss: 0.0302 - val_acc: 0.9158\n"
     ]
    }
   ],
   "source": [
    "history = model.fit_generator(train_generator, \n",
    "                              steps_per_epoch=100, \n",
    "                              epochs=30, \n",
    "                              validation_data=validation_generator, \n",
    "                              validation_steps=50)"
   ]
  },
  {
   "cell_type": "code",
   "execution_count": 22,
   "metadata": {},
   "outputs": [],
   "source": [
    "model.save(\"algae_model_2.h5\")"
   ]
  },
  {
   "cell_type": "code",
   "execution_count": 23,
   "metadata": {},
   "outputs": [
    {
     "data": {
      "image/png": "[encoded data removed]",
      "text/plain": [
       "<Figure size 432x288 with 1 Axes>"
      ]
     },
     "metadata": {
      "needs_background": "light"
     },
     "output_type": "display_data"
    },
    {
     "data": {
      "image/png": "[encoded data removed]",
      "text/plain": [
       "<Figure size 432x288 with 1 Axes>"
      ]
     },
     "metadata": {
      "needs_background": "light"
     },
     "output_type": "display_data"
    }
   ],
   "source": [
    "# to mass comment out: select all and ctrl + / \n",
    "acc = history.history['acc']\n",
    "val_acc = history.history['val_acc']\n",
    "loss = history.history['loss']\n",
    "val_loss = history.history['val_loss']\n",
    "epochs = range(len(acc))\n",
    "plt.plot(epochs, acc, 'bo', label='Training acc')\n",
    "plt.plot(epochs, val_acc, 'b', label='Validation acc')\n",
    "plt.title('Training and validation accuracy')\n",
    "plt.legend()\n",
    "plt.figure()\n",
    "plt.plot(epochs, loss, 'bo', label='Training loss')\n",
    "plt.plot(epochs, val_loss, 'b', label='Validation loss')\n",
    "plt.title('Training and validation loss')\n",
    "plt.legend()\n",
    "plt.show()"
   ]
  },
  {
   "cell_type": "markdown",
   "metadata": {},
   "source": [
    "### Evaluate model on test set"
   ]
  },
  {
   "cell_type": "code",
   "execution_count": 24,
   "metadata": {
    "scrolled": true
   },
   "outputs": [
    {
     "name": "stdout",
     "output_type": "stream",
     "text": [
      "Found 288 images belonging to 2 classes.\n",
      "test acc: 0.8641079068183899\n"
     ]
    }
   ],
   "source": [
    "# final evaluation\n",
    "test_generator = test_datagen.flow_from_directory(test_dir, \n",
    "                                                  target_size=(140, 140), \n",
    "                                                  batch_size=20)\n",
    "\n",
    "test_loss, test_acc = model.evaluate_generator(test_generator, steps=50)\n",
    "print('test acc:', test_acc)"
   ]
  },
  {
   "cell_type": "code",
   "execution_count": null,
   "metadata": {},
   "outputs": [],
   "source": []
  },
  {
   "cell_type": "markdown",
   "metadata": {},
   "source": [
    "## TO DO\n",
    "\n",
    "- check labels for classes \n",
    "- can a human label them easily?\n",
    "- waht are the standards and accuracy for satellite traininng of models?\n",
    "- for whom? \n",
    "- find image standard and demo with that image \n",
    "\n",
    "# Model improvements \n",
    "\n",
    "- manually crop images, increase saturation or contrast \n",
    "- fix scale? some images are quished, increase size \n",
    "- inception, resnet\n",
    "- add more layers "
   ]
  },
  {
   "cell_type": "markdown",
   "metadata": {},
   "source": [
    "# Results"
   ]
  },
  {
   "cell_type": "code",
   "execution_count": null,
   "metadata": {},
   "outputs": [],
   "source": []
  },
  {
   "cell_type": "markdown",
   "metadata": {},
   "source": [
    "# Conclusions"
   ]
  },
  {
   "cell_type": "code",
   "execution_count": null,
   "metadata": {},
   "outputs": [],
   "source": []
  }
 ],
 "metadata": {
  "kernelspec": {
   "display_name": "Python 3",
   "language": "python",
   "name": "python3"
  },
  "language_info": {
   "codemirror_mode": {
    "name": "ipython",
    "version": 3
   },
   "file_extension": ".py",
   "mimetype": "text/x-python",
   "name": "python",
   "nbconvert_exporter": "python",
   "pygments_lexer": "ipython3",
   "version": "3.7.5"
  }
 },
 "nbformat": 4,
 "nbformat_minor": 2
}
