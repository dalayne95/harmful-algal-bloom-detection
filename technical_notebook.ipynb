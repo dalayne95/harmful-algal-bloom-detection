{
 "cells": [
  {
   "cell_type": "markdown",
   "metadata": {},
   "source": [
    "# Computer Detection of Harmful Algal Bloooms"
   ]
  },
  {
   "cell_type": "markdown",
   "metadata": {},
   "source": [
    "![algal bloom](download.jpeg)"
   ]
  },
  {
   "cell_type": "markdown",
   "metadata": {},
   "source": [
    "## The problem \n",
    "\n",
    "Phytoplankton are single-celled algae that live in freshwater, saltwater, and everywhere in between. Algal blooms, big explosions of phytoplankton growth, happen naturally every late spring and early fall all around the globe. Sometimes, blooms grow out of control for a variety of reasons: excess of nutrient from land based runoff, influx of freshwater, higher than normal temperatures. These are called Harmful Algal Blooms (HABs). HABs pose a threat to human health and ecosystem health. \n",
    "\n",
    "![hab facts](download1.jpeg)\n",
    "\n",
    "Early detection of algal blooms from imagery can help scientists and policy makers sample blooms as soon as possible to determine if they are toxic, and make important decisions regarding public health: beach closures, fisherman warnings, and seafood warnings can all help humans avoid harmful effects of HABS. My goal is to create a model that classifies algal blooms using imagery obtained from Google. Algal blooms come in all differnet shapes, sizes and colors, and this highly varied dataset will hopefully lead to a model that is able to classsify algal blooms in all forms. "
   ]
  },
  {
   "cell_type": "markdown",
   "metadata": {},
   "source": [
    "## Imports and Settings "
   ]
  },
  {
   "cell_type": "code",
   "execution_count": 2,
   "metadata": {},
   "outputs": [],
   "source": [
    "import pandas as pd\n",
    "import numpy as np\n",
    "import os\n",
    "import glob\n",
    "import  PIL\n",
    "from PIL import Image\n",
    "import cv2\n",
    "import time\n",
    "import matplotlib.pyplot as plt\n",
    "import scipy\n",
    "from scipy import ndimage\n",
    "from keras.preprocessing.image import ImageDataGenerator, array_to_img, img_to_array, load_img\n",
    "from keras import models\n",
    "from keras import layers\n",
    "%matplotlib inline\n",
    "\n",
    "# custom function\n",
    "from data_cleaning import *"
   ]
  },
  {
   "cell_type": "markdown",
   "metadata": {},
   "source": [
    "## Image Preprocessing\n",
    "\n",
    "The first step in my process was image preprocessing. This was an iterative process that I completed over several days. In summary the steps I took were as follows:\n",
    "\n",
    "**Step 1: Splitting the data into folders**\n",
    "\n",
    "This step was completed with a python script, split.py. I initially had the images split up into two folders: algae and not-algae. I created a new directory named split that contained an algae and not-algae folder and divided these images in 80/20/20 percentages across the train, test and validation folders, respectively.  \n",
    "\n",
    "**Step 2: Resizing the images**\n",
    "\n",
    "**Step 3: Rescaling the images**\n",
    "\n",
    "**Step 4: Image Augmentation**"
   ]
  },
  {
   "cell_type": "code",
   "execution_count": 3,
   "metadata": {},
   "outputs": [
    {
     "name": "stdout",
     "output_type": "stream",
     "text": [
      "images appended!\n",
      "(140, 100)\n",
      "images appended!\n",
      "(160, 237)\n",
      "images appended!\n",
      "(140, 100)\n",
      "images appended!\n",
      "(153, 110)\n",
      "images appended!\n",
      "(140, 100)\n",
      "images appended!\n",
      "(200, 160)\n"
     ]
    }
   ],
   "source": [
    "# get_img_stats is a function loaded in from data_cleaning.py\n",
    "# it loops through each directory and gets the dimensions of each image and prints the minimum\n",
    "\n",
    "test_algae = \"split/test/algae/*\"\n",
    "test_not_algae = \"split/test/not_algae/*\"\n",
    "get_img_stats(test_algae)\n",
    "get_img_stats(test_not_algae)\n",
    "\n",
    "train_algae = \"split/train/algae/*\"\n",
    "train_not_algae = \"split/train/not_algae/*\"\n",
    "get_img_stats(train_algae)\n",
    "get_img_stats(train_not_algae)\n",
    "\n",
    "val_algae = \"split/validation/algae/*\"\n",
    "val_not_algae = \"split/validation/not_algae/*\"\n",
    "get_img_stats(val_algae)\n",
    "get_img_stats(val_not_algae)"
   ]
  },
  {
   "cell_type": "code",
   "execution_count": 4,
   "metadata": {},
   "outputs": [
    {
     "name": "stdout",
     "output_type": "stream",
     "text": [
      "Found 867 images belonging to 2 classes.\n",
      "Found 291 images belonging to 2 classes.\n"
     ]
    }
   ],
   "source": [
    "# build a baseline data generator\n",
    "train_dir = 'split/train/'\n",
    "validation_dir = 'split/validation/'\n",
    "test_dir = 'split/test/'\n",
    "\n",
    "# All images will be rescaled by 1./255\n",
    "train_datagen = ImageDataGenerator(rescale=1./255)\n",
    "test_datagen = ImageDataGenerator(rescale=1./255)\n",
    "\n",
    "train_generator = train_datagen.flow_from_directory(train_dir, \n",
    "                                                    target_size=(140, 140),\n",
    "                                                    batch_size=32)\n",
    "\n",
    "validation_generator = test_datagen.flow_from_directory(validation_dir,\n",
    "                                                        target_size=(140, 140),\n",
    "                                                        batch_size=32)\n",
    "                                                        #class_mode='binary')"
   ]
  },
  {
   "cell_type": "code",
   "execution_count": 5,
   "metadata": {},
   "outputs": [],
   "source": [
    "# instantiate the model \n",
    "model = models.Sequential()\n",
    "\n",
    "# you need alternating convolutional and pooling layers\n",
    "# first kernel_size is 7x7 because my image size is > 128x128\n",
    "# source: https://www.pyimagesearch.com/2018/12/31/keras-conv2d-and-convolutional-layers/\n",
    "\n",
    "model.add(layers.Conv2D(32, (7, 7), activation='relu',\n",
    "                        input_shape=(140, 140, 3))) # in the first layer add an input shape\n",
    "model.add(layers.MaxPooling2D((2, 2)))\n",
    "\n",
    "model.add(layers.Conv2D(64, (3, 3), activation='relu'))\n",
    "model.add(layers.MaxPooling2D((2, 2)))\n",
    "\n",
    "model.add(layers.Conv2D(128, (3, 3), activation='relu'))\n",
    "model.add(layers.MaxPooling2D((2, 2)))\n",
    "\n",
    "model.add(layers.Flatten())\n",
    "model.add(layers.Dense(512, activation='relu'))\n",
    "model.add(layers.Dense(2, activation='sigmoid'))\n",
    "\n",
    "# add in metrics for evaluations\n",
    "model.compile(loss='binary_crossentropy',\n",
    "              optimizer=\"sgd\",\n",
    "              metrics=['acc'])"
   ]
  },
  {
   "cell_type": "code",
   "execution_count": 7,
   "metadata": {
    "scrolled": true
   },
   "outputs": [
    {
     "name": "stdout",
     "output_type": "stream",
     "text": [
      "Epoch 1/30\n",
      "100/100 [==============================] - 128s 1s/step - loss: 0.5914 - acc: 0.7051 - val_loss: 0.2620 - val_acc: 0.8333\n",
      "Epoch 2/30\n",
      "100/100 [==============================] - 112s 1s/step - loss: 0.4505 - acc: 0.7885 - val_loss: 0.1036 - val_acc: 0.8041\n",
      "Epoch 3/30\n",
      "100/100 [==============================] - 112s 1s/step - loss: 0.4198 - acc: 0.8076 - val_loss: 0.0484 - val_acc: 0.7869\n",
      "Epoch 4/30\n",
      "100/100 [==============================] - 109s 1s/step - loss: 0.4067 - acc: 0.8228 - val_loss: 1.4725 - val_acc: 0.7921\n",
      "Epoch 5/30\n",
      "100/100 [==============================] - 109s 1s/step - loss: 0.3601 - acc: 0.8358 - val_loss: 0.1286 - val_acc: 0.8763\n",
      "Epoch 6/30\n",
      "100/100 [==============================] - 140s 1s/step - loss: 0.3452 - acc: 0.8541 - val_loss: 0.5128 - val_acc: 0.8557\n",
      "Epoch 7/30\n",
      "100/100 [==============================] - 113s 1s/step - loss: 0.3677 - acc: 0.8530 - val_loss: 0.2018 - val_acc: 0.8711\n",
      "Epoch 8/30\n",
      "100/100 [==============================] - 123s 1s/step - loss: 0.3184 - acc: 0.8680 - val_loss: 0.2577 - val_acc: 0.8746\n",
      "Epoch 9/30\n",
      "100/100 [==============================] - 106s 1s/step - loss: 0.2995 - acc: 0.8728 - val_loss: 1.3146 - val_acc: 0.8746\n",
      "Epoch 10/30\n",
      "100/100 [==============================] - 135s 1s/step - loss: 0.3053 - acc: 0.8763 - val_loss: 0.0268 - val_acc: 0.9003\n",
      "Epoch 11/30\n",
      "100/100 [==============================] - 129s 1s/step - loss: 0.2804 - acc: 0.8890 - val_loss: 0.0262 - val_acc: 0.8918\n",
      "Epoch 12/30\n",
      "100/100 [==============================] - 106s 1s/step - loss: 0.2806 - acc: 0.8892 - val_loss: 0.0562 - val_acc: 0.8918\n",
      "Epoch 13/30\n",
      "100/100 [==============================] - 107s 1s/step - loss: 0.2551 - acc: 0.9005 - val_loss: 0.3455 - val_acc: 0.9021\n",
      "Epoch 14/30\n",
      "100/100 [==============================] - 131s 1s/step - loss: 0.2437 - acc: 0.9133 - val_loss: 0.0299 - val_acc: 0.8900\n",
      "Epoch 15/30\n",
      "100/100 [==============================] - 120s 1s/step - loss: 0.2256 - acc: 0.9131 - val_loss: 0.2806 - val_acc: 0.8969\n",
      "Epoch 16/30\n",
      "100/100 [==============================] - 137s 1s/step - loss: 0.1944 - acc: 0.9253 - val_loss: 0.3464 - val_acc: 0.8900\n",
      "Epoch 17/30\n",
      "100/100 [==============================] - 133s 1s/step - loss: 0.2207 - acc: 0.9126 - val_loss: 0.1611 - val_acc: 0.9038\n",
      "Epoch 18/30\n",
      "100/100 [==============================] - 126s 1s/step - loss: 0.1653 - acc: 0.9362 - val_loss: 0.7036 - val_acc: 0.9055\n",
      "Epoch 19/30\n",
      "100/100 [==============================] - 124s 1s/step - loss: 0.1926 - acc: 0.9311 - val_loss: 0.0277 - val_acc: 0.9003\n",
      "Epoch 20/30\n",
      "100/100 [==============================] - 125s 1s/step - loss: 0.1516 - acc: 0.9431 - val_loss: 1.1595 - val_acc: 0.9055\n",
      "Epoch 21/30\n",
      "100/100 [==============================] - 127s 1s/step - loss: 0.1391 - acc: 0.9515 - val_loss: 0.0915 - val_acc: 0.9003\n",
      "Epoch 22/30\n",
      "100/100 [==============================] - 142s 1s/step - loss: 0.1415 - acc: 0.9481 - val_loss: 0.0032 - val_acc: 0.9055\n",
      "Epoch 23/30\n",
      "100/100 [==============================] - 124s 1s/step - loss: 0.1619 - acc: 0.9452 - val_loss: 0.0243 - val_acc: 0.9107\n",
      "Epoch 24/30\n",
      "100/100 [==============================] - 141s 1s/step - loss: 0.0853 - acc: 0.9735 - val_loss: 0.3955 - val_acc: 0.9089\n",
      "Epoch 25/30\n",
      "100/100 [==============================] - 133s 1s/step - loss: 0.0647 - acc: 0.9828 - val_loss: 0.0021 - val_acc: 0.9038\n",
      "Epoch 26/30\n",
      "100/100 [==============================] - 142s 1s/step - loss: 0.0572 - acc: 0.9870 - val_loss: 1.1898 - val_acc: 0.9089\n",
      "Epoch 27/30\n",
      "100/100 [==============================] - 137s 1s/step - loss: 0.0897 - acc: 0.9790 - val_loss: 0.3404 - val_acc: 0.9038\n",
      "Epoch 28/30\n",
      "100/100 [==============================] - 139s 1s/step - loss: 0.0363 - acc: 0.9924 - val_loss: 0.6209 - val_acc: 0.8729\n",
      "Epoch 29/30\n",
      "100/100 [==============================] - 117s 1s/step - loss: 0.1652 - acc: 0.9563 - val_loss: 0.0049 - val_acc: 0.8952\n",
      "Epoch 30/30\n",
      "100/100 [==============================] - 103s 1s/step - loss: 0.0283 - acc: 0.9963 - val_loss: 0.3017 - val_acc: 0.8986\n"
     ]
    }
   ],
   "source": [
    "history = model.fit_generator(train_generator, \n",
    "                              steps_per_epoch=100, \n",
    "                              epochs=30, \n",
    "                              validation_data=validation_generator, \n",
    "                              validation_steps=50)"
   ]
  },
  {
   "cell_type": "code",
   "execution_count": 11,
   "metadata": {},
   "outputs": [
    {
     "data": {
      "image/png": "[encoded data removed]",
      "text/plain": [
       "<Figure size 432x288 with 1 Axes>"
      ]
     },
     "metadata": {
      "needs_background": "light"
     },
     "output_type": "display_data"
    },
    {
     "data": {
      "image/png": "[encoded data removed]",
      "text/plain": [
       "<Figure size 432x288 with 1 Axes>"
      ]
     },
     "metadata": {
      "needs_background": "light"
     },
     "output_type": "display_data"
    }
   ],
   "source": [
    "acc = history.history['acc']\n",
    "val_acc = history.history['val_acc']\n",
    "loss = history.history['loss']\n",
    "val_loss = history.history['val_loss']\n",
    "epochs = range(len(acc))\n",
    "plt.plot(epochs, acc, 'bo', label='Training acc')\n",
    "plt.plot(epochs, val_acc, 'b', label='Validation acc')\n",
    "plt.title('Training and validation accuracy')\n",
    "plt.legend()\n",
    "plt.figure()\n",
    "plt.plot(epochs, loss, 'bo', label='Training loss')\n",
    "plt.plot(epochs, val_loss, 'b', label='Validation loss')\n",
    "plt.title('Training and validation loss')\n",
    "plt.legend()\n",
    "plt.show()"
   ]
  },
  {
   "cell_type": "code",
   "execution_count": 25,
   "metadata": {},
   "outputs": [],
   "source": [
    "#model.save('hab_test_model.h5')"
   ]
  },
  {
   "cell_type": "code",
   "execution_count": 12,
   "metadata": {},
   "outputs": [
    {
     "name": "stdout",
     "output_type": "stream",
     "text": [
      "Found 867 images belonging to 2 classes.\n",
      "Found 291 images belonging to 2 classes.\n"
     ]
    }
   ],
   "source": [
    "#augment the images\n",
    "train_datagen = ImageDataGenerator(rescale=1./255, \n",
    "                                     rotation_range=90, \n",
    "                                     brightness_range=[0.2,1.5], \n",
    "                                     horizontal_flip=True) \n",
    "                                                          \n",
    "\n",
    "test_datagen = ImageDataGenerator(rescale=1./255)\n",
    "\n",
    "train_generator = train_datagen.flow_from_directory(\n",
    "        train_dir,\n",
    "        target_size=(140, 140),\n",
    "        batch_size=32)\n",
    "\n",
    "validation_generator = test_datagen.flow_from_directory(validation_dir, \n",
    "                                                        target_size=(140, 140), \n",
    "                                                        batch_size=32)"
   ]
  },
  {
   "cell_type": "code",
   "execution_count": 13,
   "metadata": {
    "scrolled": true
   },
   "outputs": [
    {
     "name": "stdout",
     "output_type": "stream",
     "text": [
      "Epoch 1/30\n",
      "100/100 [==============================] - 139s 1s/step - loss: 0.4509 - acc: 0.8267 - val_loss: 0.0285 - val_acc: 0.9107\n",
      "Epoch 2/30\n",
      "100/100 [==============================] - 141s 1s/step - loss: 0.3931 - acc: 0.8393 - val_loss: 0.0542 - val_acc: 0.9210\n",
      "Epoch 3/30\n",
      "100/100 [==============================] - 152s 2s/step - loss: 0.3681 - acc: 0.8546 - val_loss: 0.2930 - val_acc: 0.9055\n",
      "Epoch 4/30\n",
      "100/100 [==============================] - 117s 1s/step - loss: 0.3271 - acc: 0.8691 - val_loss: 0.1446 - val_acc: 0.9278\n",
      "Epoch 5/30\n",
      "100/100 [==============================] - 110s 1s/step - loss: 0.3159 - acc: 0.8668 - val_loss: 0.1432 - val_acc: 0.9261\n",
      "Epoch 6/30\n",
      "100/100 [==============================] - 121s 1s/step - loss: 0.3031 - acc: 0.8740 - val_loss: 0.1931 - val_acc: 0.9261\n",
      "Epoch 7/30\n",
      "100/100 [==============================] - 130s 1s/step - loss: 0.3090 - acc: 0.8808 - val_loss: 0.0420 - val_acc: 0.9261\n",
      "Epoch 8/30\n",
      "100/100 [==============================] - 138s 1s/step - loss: 0.3016 - acc: 0.8839 - val_loss: 0.4283 - val_acc: 0.9210\n",
      "Epoch 9/30\n",
      "100/100 [==============================] - 134s 1s/step - loss: 0.2814 - acc: 0.8848 - val_loss: 0.0347 - val_acc: 0.9055\n",
      "Epoch 10/30\n",
      "100/100 [==============================] - 147s 1s/step - loss: 0.2814 - acc: 0.8891 - val_loss: 0.2464 - val_acc: 0.9296\n",
      "Epoch 11/30\n",
      "100/100 [==============================] - 131s 1s/step - loss: 0.3135 - acc: 0.8786 - val_loss: 0.0298 - val_acc: 0.9261\n",
      "Epoch 12/30\n",
      "100/100 [==============================] - 124s 1s/step - loss: 0.2948 - acc: 0.8857 - val_loss: 0.0645 - val_acc: 0.9227\n",
      "Epoch 13/30\n",
      "100/100 [==============================] - 122s 1s/step - loss: 0.2626 - acc: 0.8977 - val_loss: 0.0665 - val_acc: 0.9278\n",
      "Epoch 14/30\n",
      "100/100 [==============================] - 130s 1s/step - loss: 0.2519 - acc: 0.9015 - val_loss: 0.0161 - val_acc: 0.9364\n",
      "Epoch 15/30\n",
      "100/100 [==============================] - 133s 1s/step - loss: 0.2544 - acc: 0.8967 - val_loss: 0.0083 - val_acc: 0.9158\n",
      "Epoch 16/30\n",
      "100/100 [==============================] - 146s 1s/step - loss: 0.2483 - acc: 0.8992 - val_loss: 0.0258 - val_acc: 0.9055\n",
      "Epoch 17/30\n",
      "100/100 [==============================] - 161s 2s/step - loss: 0.2333 - acc: 0.9075 - val_loss: 0.0164 - val_acc: 0.9124\n",
      "Epoch 18/30\n",
      "100/100 [==============================] - 128s 1s/step - loss: 0.2855 - acc: 0.8897 - val_loss: 0.0235 - val_acc: 0.9330\n",
      "Epoch 19/30\n",
      "100/100 [==============================] - 111s 1s/step - loss: 0.2335 - acc: 0.9103 - val_loss: 0.0129 - val_acc: 0.9278\n",
      "Epoch 20/30\n",
      "100/100 [==============================] - 133s 1s/step - loss: 0.2410 - acc: 0.9099 - val_loss: 0.0418 - val_acc: 0.9364\n",
      "Epoch 21/30\n",
      "100/100 [==============================] - 145s 1s/step - loss: 0.2280 - acc: 0.9120 - val_loss: 0.1862 - val_acc: 0.9192\n",
      "Epoch 22/30\n",
      "100/100 [==============================] - 171s 2s/step - loss: 0.2058 - acc: 0.9173 - val_loss: 0.0623 - val_acc: 0.9055\n",
      "Epoch 23/30\n",
      "100/100 [==============================] - 137s 1s/step - loss: 0.2164 - acc: 0.9157 - val_loss: 0.0059 - val_acc: 0.9364\n",
      "Epoch 24/30\n",
      "100/100 [==============================] - 148s 1s/step - loss: 0.2092 - acc: 0.9184 - val_loss: 0.0459 - val_acc: 0.8832\n",
      "Epoch 25/30\n",
      "100/100 [==============================] - 153s 2s/step - loss: 0.2965 - acc: 0.8958 - val_loss: 0.0241 - val_acc: 0.9175\n",
      "Epoch 26/30\n",
      "100/100 [==============================] - 120s 1s/step - loss: 0.2154 - acc: 0.9214 - val_loss: 0.8420 - val_acc: 0.9416\n",
      "Epoch 27/30\n",
      "100/100 [==============================] - 139s 1s/step - loss: 0.1947 - acc: 0.9217 - val_loss: 0.0186 - val_acc: 0.9433\n",
      "Epoch 28/30\n",
      "100/100 [==============================] - 163s 2s/step - loss: 0.2065 - acc: 0.9181 - val_loss: 0.0069 - val_acc: 0.9364\n",
      "Epoch 29/30\n",
      "100/100 [==============================] - 136s 1s/step - loss: 0.1982 - acc: 0.9230 - val_loss: 0.0480 - val_acc: 0.9021\n",
      "Epoch 30/30\n",
      "100/100 [==============================] - 133s 1s/step - loss: 0.2096 - acc: 0.9195 - val_loss: 1.1036 - val_acc: 0.9261\n"
     ]
    }
   ],
   "source": [
    "history = model.fit_generator(train_generator, \n",
    "                              steps_per_epoch=100, \n",
    "                              epochs=30, \n",
    "                              validation_data=validation_generator, \n",
    "                              validation_steps=50)"
   ]
  },
  {
   "cell_type": "code",
   "execution_count": 14,
   "metadata": {
    "scrolled": true
   },
   "outputs": [
    {
     "data": {
      "image/png": "[encoded data removed]",
      "text/plain": [
       "<Figure size 432x288 with 1 Axes>"
      ]
     },
     "metadata": {
      "needs_background": "light"
     },
     "output_type": "display_data"
    },
    {
     "data": {
      "image/png": "[encoded data removed]",
      "text/plain": [
       "<Figure size 432x288 with 1 Axes>"
      ]
     },
     "metadata": {
      "needs_background": "light"
     },
     "output_type": "display_data"
    }
   ],
   "source": [
    "acc = history.history['acc']\n",
    "val_acc = history.history['val_acc']\n",
    "loss = history.history['loss']\n",
    "val_loss = history.history['val_loss']\n",
    "epochs = range(len(acc))\n",
    "plt.plot(epochs, acc, 'bo', label='Training acc')\n",
    "plt.plot(epochs, val_acc, 'b', label='Validation acc')\n",
    "plt.title('Training and validation accuracy')\n",
    "plt.legend()\n",
    "plt.figure()\n",
    "plt.plot(epochs, loss, 'bo', label='Training loss')\n",
    "plt.plot(epochs, val_loss, 'b', label='Validation loss')\n",
    "plt.title('Training and validation loss')\n",
    "plt.legend()\n",
    "plt.show()"
   ]
  },
  {
   "cell_type": "code",
   "execution_count": 15,
   "metadata": {},
   "outputs": [
    {
     "name": "stdout",
     "output_type": "stream",
     "text": [
      "Found 288 images belonging to 2 classes.\n",
      "test acc: 0.8252074718475342\n"
     ]
    }
   ],
   "source": [
    "# final evaluation\n",
    "test_generator = test_datagen.flow_from_directory(test_dir, \n",
    "                                                  target_size=(140, 140), \n",
    "                                                  batch_size=20)\n",
    "\n",
    "test_loss, test_acc = model.evaluate_generator(test_generator, steps=50)\n",
    "print('test acc:', test_acc)"
   ]
  },
  {
   "cell_type": "code",
   "execution_count": null,
   "metadata": {},
   "outputs": [],
   "source": [
    "# manual predict \n",
    "# predict(x, batch_size=None, verbose=0, steps=None, \n",
    "#         callbacks=None, max_queue_size=10, workers=1, use_multiprocessing=False)\n",
    "\n",
    "# prediction = model.predict(np.array(tk.texts_to_sequences(text)))\n",
    "# print(prediction)"
   ]
  },
  {
   "cell_type": "markdown",
   "metadata": {},
   "source": [
    "## TO DO\n",
    "\n",
    "- check labels for classes \n",
    "- can a human label them easily?\n",
    "- waht are the standards and accuracy for satellite traininng of models?\n",
    "- for whom? \n",
    "- find image standard and demo with that image \n",
    "\n",
    "# Model improvements \n",
    "\n",
    "- manually crop images, increase saturation or contrast \n",
    "- fix scale? some images are quished, increase size \n",
    "- inception, resnet\n",
    "- add more layers "
   ]
  },
  {
   "cell_type": "markdown",
   "metadata": {},
   "source": [
    "# Results"
   ]
  },
  {
   "cell_type": "code",
   "execution_count": null,
   "metadata": {},
   "outputs": [],
   "source": []
  },
  {
   "cell_type": "markdown",
   "metadata": {},
   "source": [
    "# Conclusions"
   ]
  },
  {
   "cell_type": "code",
   "execution_count": null,
   "metadata": {},
   "outputs": [],
   "source": []
  }
 ],
 "metadata": {
  "kernelspec": {
   "display_name": "Python 3",
   "language": "python",
   "name": "python3"
  },
  "language_info": {
   "codemirror_mode": {
    "name": "ipython",
    "version": 3
   },
   "file_extension": ".py",
   "mimetype": "text/x-python",
   "name": "python",
   "nbconvert_exporter": "python",
   "pygments_lexer": "ipython3",
   "version": "3.7.5"
  }
 },
 "nbformat": 4,
 "nbformat_minor": 2
}
